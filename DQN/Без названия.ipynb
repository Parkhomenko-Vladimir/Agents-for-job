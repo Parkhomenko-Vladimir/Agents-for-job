{
 "cells": [
  {
   "cell_type": "code",
   "execution_count": 1,
   "id": "06662f58-81bd-4fdc-ae3a-312ead22a075",
   "metadata": {},
   "outputs": [],
   "source": [
    "# import os\n",
    "# import gym\n",
    "# import numpy as np\n",
    "# from agent import DuelingDDQNAgent\n",
    "# from utils import plot_learning_curve, make_env\n",
    "from IPython.display import clear_output"
   ]
  },
  {
   "cell_type": "code",
   "execution_count": 5,
   "id": "a27a4a5e-bc4f-49d2-9709-7648c0ff3769",
   "metadata": {},
   "outputs": [],
   "source": [
    "import os\n",
    "import gym\n",
    "import numpy as np\n",
    "import agent as Agents\n",
    "from utils import plot_learning_curve, make_env\n",
    "import  argparse"
   ]
  },
  {
   "cell_type": "code",
   "execution_count": 6,
   "id": "82279e48-2935-4fda-b119-9ed936270709",
   "metadata": {},
   "outputs": [
    {
     "name": "stderr",
     "output_type": "stream",
     "text": [
      "A.L.E: Arcade Learning Environment (version 0.7.4+069f8bd)\n",
      "[Powered by Stella]\n",
      "<__array_function__ internals>:180: VisibleDeprecationWarning: Creating an ndarray from ragged nested sequences (which is a list-or-tuple of lists-or-tuples-or ndarrays with different lengths or shapes) is deprecated. If you meant to do this, you must specify 'dtype=object' when creating the ndarray.\n"
     ]
    }
   ],
   "source": [
    "env_name='PongNoFrameskip-v4'\n",
    "\n",
    "env = make_env(env_name=env_name,repeat=4,\n",
    "                  clip_rewards=False, no_ops=0,\n",
    "                  fire_first=False)\n",
    "\n",
    "gamma  =0.99\n",
    "epsilon=1.0\n",
    "lr     =0.0001\n",
    "input_dims=env.observation_space.shape\n",
    "n_actions=env.action_space.n\n",
    "mem_size=50000\n",
    "eps_min=0.1\n",
    "batch_size=32\n",
    "replace=1000\n",
    "eps_dec=1e-5\n",
    "chkpt_dir='models/'\n",
    "algo='DuelingDDQNAgent'\n",
    "\n",
    "n_games = 1000\n",
    "load_checkpoint = False"
   ]
  },
  {
   "cell_type": "code",
   "execution_count": 8,
   "id": "5c2f66bf-066d-4bba-ae47-d3610bee27ac",
   "metadata": {},
   "outputs": [],
   "source": [
    "agent_ = getattr(Agents, algo)\n",
    "agent = agent_(gamma       = gamma,\n",
    "              epsilon    = epsilon,\n",
    "              lr         = lr,\n",
    "              input_dims = env.observation_space.shape,\n",
    "              n_actions  = env.action_space.n,\n",
    "              mem_size   = mem_size,\n",
    "              eps_min    = eps_min,\n",
    "              batch_size = batch_size,\n",
    "              replace    = replace,\n",
    "              eps_dec    = eps_dec,\n",
    "              chkpt_dir  = chkpt_dir,\n",
    "              algo       = algo,\n",
    "              env_name   = env_name)\n"
   ]
  },
  {
   "cell_type": "code",
   "execution_count": 9,
   "id": "2b06bcc0-b86e-437d-8c10-1049525d0947",
   "metadata": {},
   "outputs": [],
   "source": [
    " # agent = DuelingDDQNAgent(gamma       = gamma,\n",
    " #                          epsilon    = epsilon,\n",
    " #                          lr         = lr,\n",
    " #                          input_dims = env.observation_space.shape,\n",
    " #                          n_actions  = env.action_space.n,\n",
    " #                          mem_size   = mem_size,\n",
    " #                          eps_min    = eps_min,\n",
    " #                          batch_size = batch_size,\n",
    " #                          replace    = replace,\n",
    " #                          eps_dec    = eps_dec,\n",
    " #                          chkpt_dir  = chkpt_dir,\n",
    " #                          algo       = algo,\n",
    " #                          env_name   = env_name)"
   ]
  },
  {
   "cell_type": "code",
   "execution_count": null,
   "id": "5eb6a92c-f571-47aa-a4a5-d94dab67c8dd",
   "metadata": {},
   "outputs": [],
   "source": []
  },
  {
   "cell_type": "code",
   "execution_count": 10,
   "id": "2ba8b926-08b3-4f3c-9cb1-0b1b0a96c164",
   "metadata": {},
   "outputs": [
    {
     "name": "stdout",
     "output_type": "stream",
     "text": [
      "episode:  990 score:  15.0  average score 16.4 best score 16.84 epsilon 0.10 steps 2100759\n",
      "episode:  991 score:  17.0  average score 16.4 best score 16.84 epsilon 0.10 steps 2102620\n",
      "episode:  992 score:  16.0  average score 16.4 best score 16.84 epsilon 0.10 steps 2104616\n",
      "episode:  993 score:  13.0  average score 16.4 best score 16.84 epsilon 0.10 steps 2106828\n",
      "episode:  994 score:  15.0  average score 16.4 best score 16.84 epsilon 0.10 steps 2109130\n",
      "episode:  995 score:  19.0  average score 16.4 best score 16.84 epsilon 0.10 steps 2111042\n",
      "episode:  996 score:  11.0  average score 16.3 best score 16.84 epsilon 0.10 steps 2113474\n",
      "episode:  997 score:  14.0  average score 16.3 best score 16.84 epsilon 0.10 steps 2115820\n",
      "episode:  998 score:  20.0  average score 16.4 best score 16.84 epsilon 0.10 steps 2117599\n",
      "episode:  999 score:  17.0  average score 16.3 best score 16.84 epsilon 0.10 steps 2119635\n"
     ]
    },
    {
     "data": {
      "image/png": "[encoded data removed]",
      "text/plain": [
       "<Figure size 432x288 with 2 Axes>"
      ]
     },
     "metadata": {},
     "output_type": "display_data"
    }
   ],
   "source": [
    "best_score = -np.inf\n",
    "fname = algo + '_' + env_name + '_alpha' + str(lr) +'_' \\\n",
    "        + str(n_games) + 'games'\n",
    "figure_file = 'plots/' + fname + '.png'\n",
    "scores_file = fname + '_scores.npy'\n",
    "\n",
    "scores, eps_history = [], []\n",
    "n_steps = 0\n",
    "steps_array = []\n",
    "for i in range(n_games):\n",
    "    done = False\n",
    "    observation = env.reset()\n",
    "    score = 0\n",
    "    while not done:\n",
    "        action = agent.choose_action(observation)\n",
    "        observation_, reward, done, info = env.step(action)\n",
    "        score += reward\n",
    "\n",
    "        if not load_checkpoint:\n",
    "            agent.store_transition(observation, action,\n",
    "                                 reward, observation_, int(done))\n",
    "            agent.learn()\n",
    "        observation = observation_\n",
    "        n_steps += 1\n",
    "    scores.append(score)\n",
    "    steps_array.append(n_steps)\n",
    "\n",
    "    avg_score = np.mean(scores[-100:])\n",
    "    \n",
    "    if not bool(i%10):clear_output()\n",
    "    print('episode: ', i,'score: ', score,\n",
    "         ' average score %.1f' % avg_score, 'best score %.2f' % best_score,\n",
    "        'epsilon %.2f' % agent.epsilon, 'steps', n_steps)\n",
    "\n",
    "    if avg_score > best_score:\n",
    "        if not load_checkpoint:\n",
    "            agent.save_models()\n",
    "        best_score = avg_score\n",
    "\n",
    "    eps_history.append(agent.epsilon)\n",
    "    if load_checkpoint and n_steps >= 18000:\n",
    "        break\n",
    "\n",
    "x = [i+1 for i in range(len(scores))]\n",
    "plot_learning_curve(steps_array, scores, eps_history, figure_file)"
   ]
  },
  {
   "cell_type": "code",
   "execution_count": null,
   "id": "8cc42072-7cf4-444f-8057-eb147da24abb",
   "metadata": {},
   "outputs": [],
   "source": []
  },
  {
   "cell_type": "code",
   "execution_count": null,
   "id": "96bb673f-b733-47be-b1ac-d2403d25ae7a",
   "metadata": {},
   "outputs": [],
   "source": []
  },
  {
   "cell_type": "code",
   "execution_count": null,
   "id": "8ec15699-5179-496d-9179-4291ca22556a",
   "metadata": {},
   "outputs": [],
   "source": []
  },
  {
   "cell_type": "code",
   "execution_count": null,
   "id": "38253ff4-9f16-47b7-a85d-d5b28df9d0fb",
   "metadata": {},
   "outputs": [],
   "source": []
  },
  {
   "cell_type": "code",
   "execution_count": null,
   "id": "559e310d-4ade-4d44-bfa3-f91afeb5e939",
   "metadata": {},
   "outputs": [],
   "source": []
  },
  {
   "cell_type": "code",
   "execution_count": null,
   "id": "93fdfe94-5f95-4409-b355-985d062d92c8",
   "metadata": {},
   "outputs": [],
   "source": []
  },
  {
   "cell_type": "code",
   "execution_count": null,
   "id": "aa6ceb89-617e-438f-af60-3d02f4d0124f",
   "metadata": {},
   "outputs": [],
   "source": []
  },
  {
   "cell_type": "code",
   "execution_count": null,
   "id": "5a0b4df8-8687-4205-8c9f-6ec6e36f6e8b",
   "metadata": {},
   "outputs": [],
   "source": []
  },
  {
   "cell_type": "code",
   "execution_count": null,
   "id": "c49663da-a1f9-4426-8da4-955b380182b3",
   "metadata": {},
   "outputs": [],
   "source": []
  },
  {
   "cell_type": "code",
   "execution_count": null,
   "id": "c9ad5cbe-9b94-406a-b509-09aba03a2526",
   "metadata": {},
   "outputs": [],
   "source": []
  },
  {
   "cell_type": "code",
   "execution_count": null,
   "id": "ce43c904-3b4d-47ef-8af0-d3741c8c5999",
   "metadata": {},
   "outputs": [],
   "source": []
  },
  {
   "cell_type": "code",
   "execution_count": null,
   "id": "c77d3d6f-45a8-4fff-8b7c-bd209ac39b8f",
   "metadata": {},
   "outputs": [],
   "source": []
  },
  {
   "cell_type": "code",
   "execution_count": null,
   "id": "a8828dd9-280a-4377-95a3-2b30298a6504",
   "metadata": {},
   "outputs": [],
   "source": []
  },
  {
   "cell_type": "code",
   "execution_count": null,
   "id": "b66b114a-1b10-4181-8643-e309eaf2f4c5",
   "metadata": {},
   "outputs": [],
   "source": []
  },
  {
   "cell_type": "code",
   "execution_count": null,
   "id": "99e2c9f7-69ce-4c67-9019-717245e11a2b",
   "metadata": {},
   "outputs": [],
   "source": []
  },
  {
   "cell_type": "code",
   "execution_count": null,
   "id": "e22b37cc-6f59-4973-b447-2b2c30b01aec",
   "metadata": {},
   "outputs": [],
   "source": []
  },
  {
   "cell_type": "code",
   "execution_count": null,
   "id": "122c0fa6-fc52-4e65-8c64-23a52ccd1fa5",
   "metadata": {},
   "outputs": [],
   "source": []
  }
 ],
 "metadata": {
  "kernelspec": {
   "display_name": "Python 3 (ipykernel)",
   "language": "python",
   "name": "python3"
  },
  "language_info": {
   "codemirror_mode": {
    "name": "ipython",
    "version": 3
   },
   "file_extension": ".py",
   "mimetype": "text/x-python",
   "name": "python",
   "nbconvert_exporter": "python",
   "pygments_lexer": "ipython3",
   "version": "3.10.4"
  }
 },
 "nbformat": 4,
 "nbformat_minor": 5
}
