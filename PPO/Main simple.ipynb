{
 "cells": [
  {
   "cell_type": "code",
   "execution_count": 3,
   "id": "8eedc5fb-53d3-4e1d-a0da-e0af21a7b20a",
   "metadata": {},
   "outputs": [],
   "source": [
    "import gym\n",
    "import numpy\n",
    "import numpy as np\n",
    "\n",
    "from Agents import Agent\n",
    "from IPython.display import clear_output\n",
    "import matplotlib.pyplot as plt"
   ]
  },
  {
   "cell_type": "code",
   "execution_count": null,
   "id": "84b5ccea-b2fb-4baa-af5d-e4ae900facd8",
   "metadata": {},
   "outputs": [],
   "source": []
  },
  {
   "cell_type": "code",
   "execution_count": null,
   "id": "3b85f8e7-5524-4b1a-8ea3-c1be7873b159",
   "metadata": {},
   "outputs": [],
   "source": []
  },
  {
   "cell_type": "code",
   "execution_count": null,
   "id": "d990fbad-19d1-4f74-b3a4-a4c90b1f87d4",
   "metadata": {},
   "outputs": [],
   "source": []
  },
  {
   "cell_type": "code",
   "execution_count": 2,
   "id": "69413160-f982-4f18-9e8f-0ef645a115cd",
   "metadata": {},
   "outputs": [
    {
     "name": "stdout",
     "output_type": "stream",
     "text": [
      "episode  990 score 18.0 avg score 15.5 time step 23298 learning_steps 1164\n",
      "episode  991 score 17.0 avg score 15.5 time step 23315 learning_steps 1165\n",
      "episode  992 score 13.0 avg score 15.5 time step 23328 learning_steps 1166\n",
      "episode  993 score 15.0 avg score 15.5 time step 23343 learning_steps 1167\n",
      "episode  994 score 12.0 avg score 15.5 time step 23355 learning_steps 1167\n",
      "episode  995 score 17.0 avg score 15.5 time step 23372 learning_steps 1168\n",
      "episode  996 score 14.0 avg score 15.4 time step 23386 learning_steps 1169\n",
      "episode  997 score 12.0 avg score 15.4 time step 23398 learning_steps 1169\n",
      "episode  998 score 12.0 avg score 15.4 time step 23410 learning_steps 1170\n",
      "episode  999 score 11.0 avg score 15.4 time step 23421 learning_steps 1171\n"
     ]
    }
   ],
   "source": [
    "env = gym.make('CartPole-v0')\n",
    "N = 20\n",
    "batch_size = 5\n",
    "n_epochs = 2\n",
    "alpha = 0.001\n",
    "agent = Agent(n_actions=env.action_space.n, batch_size=batch_size,\n",
    "              alpha=alpha, n_epochs=n_epochs,\n",
    "              input_dims=env.observation_space.shape)\n",
    "\n",
    "n_games = 1000\n",
    "\n",
    "best_score = env.reward_range[0]\n",
    "score_history = []\n",
    "\n",
    "learn_iters = 0\n",
    "avg_score = 0\n",
    "n_steps = 0\n",
    "\n",
    "for i in range(n_games):\n",
    "    observation = env.reset()\n",
    "    done = False\n",
    "    score = 0\n",
    "    while not done:\n",
    "        action, prob, val = agent.choose_action(observation)\n",
    "        observation_, reward, done, info = env.step(action)\n",
    "        n_steps += 1\n",
    "        score += reward\n",
    "        agent.remember(observation, action, prob, val, reward, done)\n",
    "        if n_steps % N == 0:\n",
    "            agent.learn()\n",
    "            learn_iters += 1\n",
    "        observation = observation_\n",
    "    score_history.append(score)\n",
    "    avg_score = np.mean(score_history[-100:])\n",
    "\n",
    "    if avg_score > best_score:\n",
    "        best_score = avg_score\n",
    "        agent.save_models()\n",
    "        \n",
    "    if not bool(i%10):clear_output()\n",
    "    print('episode ', i, 'score %.1f' % score, 'avg score %.1f' % avg_score,\n",
    "          'time step', n_steps, 'learning_steps', learn_iters)"
   ]
  },
  {
   "cell_type": "code",
   "execution_count": 14,
   "id": "94d7223c-3c6e-46a8-9a8f-1a9aa5df50fd",
   "metadata": {},
   "outputs": [],
   "source": [
    "def plot_learning_curve(scores, x, figure_file):\n",
    "    running_avg = np.zeros(len(scores))\n",
    "    for i in range(len(running_avg)):\n",
    "        running_avg[i] = np.mean(scores[max(0, i-100):(i+1)])\n",
    "    plt.plot(x, running_avg)\n",
    "    plt.savefig(figure_file, dpi=100)"
   ]
  },
  {
   "cell_type": "code",
   "execution_count": 15,
   "id": "3c8081e2-9ca7-4e41-8bf7-6ff9b4a56b09",
   "metadata": {},
   "outputs": [
    {
     "data": {
      "image/png": "[encoded data removed]",
      "text/plain": [
       "<Figure size 432x288 with 1 Axes>"
      ]
     },
     "metadata": {
      "needs_background": "light"
     },
     "output_type": "display_data"
    }
   ],
   "source": [
    "x = [i + 1 for i in range(n_games)]\n",
    "plot_learning_curve( score_history,x, 'PPO.png')"
   ]
  },
  {
   "cell_type": "code",
   "execution_count": null,
   "id": "6a20e26c-e6d3-421f-b469-c572dbf654e7",
   "metadata": {},
   "outputs": [],
   "source": []
  },
  {
   "cell_type": "code",
   "execution_count": null,
   "id": "fcca7b71-960e-4b03-9e07-eb92d986b12d",
   "metadata": {},
   "outputs": [],
   "source": []
  },
  {
   "cell_type": "code",
   "execution_count": null,
   "id": "64eb7f75-de72-4148-9219-7d719add2176",
   "metadata": {},
   "outputs": [],
   "source": []
  },
  {
   "cell_type": "code",
   "execution_count": null,
   "id": "01b4e81c-2dbf-4f50-a25b-2a831e062a2c",
   "metadata": {},
   "outputs": [],
   "source": []
  },
  {
   "cell_type": "code",
   "execution_count": null,
   "id": "8316ba1f-0053-420d-bca0-a1d51978f626",
   "metadata": {},
   "outputs": [],
   "source": []
  },
  {
   "cell_type": "code",
   "execution_count": null,
   "id": "bef3e361-3e0f-459c-8d94-e8f4dc3932e3",
   "metadata": {},
   "outputs": [],
   "source": []
  }
 ],
 "metadata": {
  "kernelspec": {
   "display_name": "Python 3 (ipykernel)",
   "language": "python",
   "name": "python3"
  },
  "language_info": {
   "codemirror_mode": {
    "name": "ipython",
    "version": 3
   },
   "file_extension": ".py",
   "mimetype": "text/x-python",
   "name": "python",
   "nbconvert_exporter": "python",
   "pygments_lexer": "ipython3",
   "version": "3.10.4"
  }
 },
 "nbformat": 4,
 "nbformat_minor": 5
}
