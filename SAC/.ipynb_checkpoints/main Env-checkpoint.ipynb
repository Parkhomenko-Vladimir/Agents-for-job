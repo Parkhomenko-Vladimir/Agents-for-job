{
 "cells": [
  {
   "cell_type": "code",
   "execution_count": 1,
   "id": "8a8bd08e-8611-4b68-af60-efed219303f8",
   "metadata": {},
   "outputs": [],
   "source": [
    "import pybullet_envs\n",
    "import gym\n",
    "import numpy\n",
    "from sac import Agent\n",
    "import matplotlib.pyplot as plt\n",
    "import numpy as np\n",
    "\n",
    "from IPython.display import clear_output"
   ]
  },
  {
   "cell_type": "code",
   "execution_count": null,
   "id": "fb230901-b3ed-41e5-b803-170140b58f83",
   "metadata": {},
   "outputs": [],
   "source": []
  },
  {
   "cell_type": "code",
   "execution_count": null,
   "id": "43048373-f3cf-4697-bcba-375b4ff066b1",
   "metadata": {},
   "outputs": [],
   "source": []
  },
  {
   "cell_type": "code",
   "execution_count": null,
   "id": "7cf35ed0-e6b3-4ff4-a8d5-3f81c4ad5da0",
   "metadata": {},
   "outputs": [
    {
     "name": "stdout",
     "output_type": "stream",
     "text": [
      "episode 160 score 212.2 training 100 games avg 212.2 steps 23215 InvertedPendulumBulletEnv-v0 scale 2\n"
     ]
    }
   ],
   "source": [
    "env_id = 'InvertedPendulumBulletEnv-v0'\n",
    "env = gym.make(env_id)\n",
    "agent = Agent(alpha=0.003, beta=0.003, reward_scale=2, env_id=env_id,\n",
    "              input_dims=env.observation_space.shape, tau=0.005,\n",
    "              env=env, batch_size=256, layer1_size=256, layer2_size=256,\n",
    "              n_actions=env.action_space.shape[0])\n",
    "n_games = 250\n",
    "filename = env_id+ '_' +str(n_games)+'games_scale'+str(agent.scale)+'.png'\n",
    "figure_file = 'plots/' + filename\n",
    "\n",
    "best_score = env.reward_range[0]\n",
    "score_history = []\n",
    "load_checkpoint = False\n",
    "\n",
    "if load_checkpoint:\n",
    "    agent.load_madels()\n",
    "    env.render(mode='human')\n",
    "\n",
    "steps=0\n",
    "for i in range(n_games):\n",
    "    score = 0\n",
    "    done = False\n",
    "    observation = env.reset()\n",
    "\n",
    "    while not done:\n",
    "        action = agent.choose_actions(observation)\n",
    "        observation_, reward, done, info = env.step(action)\n",
    "        steps += 1\n",
    "        score += reward\n",
    "        agent.remember(observation,action, reward, observation_, done)\n",
    "        if not load_checkpoint:\n",
    "            agent.learn()\n",
    "        observation = observation_\n",
    "    score_history.append(score)\n",
    "    avg_score = np.mean(score_history[-100:])\n",
    "\n",
    "    if avg_score > best_score:\n",
    "        best_score = avg_score\n",
    "        if not load_checkpoint:\n",
    "            agent.save_models()\n",
    "            \n",
    "    if not bool(i%10):clear_output()\n",
    "    print('episode', i, 'score %.1f' % avg_score,\n",
    "          'training 100 games avg %.1f' % avg_score,\n",
    "          'steps %d' % steps, env_id, 'scale', agent.scale)\n",
    "\n",
    "    "
   ]
  },
  {
   "cell_type": "code",
   "execution_count": null,
   "id": "00fb982f-d849-43d1-8696-98dffa24a1bb",
   "metadata": {},
   "outputs": [],
   "source": [
    "def plot_learning_curve(scores, x, figure_file):\n",
    "    running_avg = np.zeros(len(scores))\n",
    "    for i in range(len(running_avg)):\n",
    "        running_avg[i] = np.mean(scores[max(0, i-100):(i+1)])\n",
    "    plt.plot(x, running_avg)\n",
    "    plt.title('Average of previos 100 scores')\n",
    "    plt.savefig(figure_file)"
   ]
  },
  {
   "cell_type": "code",
   "execution_count": null,
   "id": "16cf0066-1a79-4b37-9052-ef16ab3f64bb",
   "metadata": {},
   "outputs": [],
   "source": [
    "x = [i+1 for i in range(n_games)]\n",
    "    plot_learning_curve(x, score_history, figure_file)"
   ]
  },
  {
   "cell_type": "code",
   "execution_count": null,
   "id": "6fdfee39-e03f-40be-8c20-10962818509c",
   "metadata": {},
   "outputs": [],
   "source": []
  },
  {
   "cell_type": "code",
   "execution_count": null,
   "id": "b2581efb-3354-440e-96ba-0aab10d78df3",
   "metadata": {},
   "outputs": [],
   "source": []
  },
  {
   "cell_type": "code",
   "execution_count": null,
   "id": "a539aa9d-0384-4822-ba57-932879b59f0e",
   "metadata": {},
   "outputs": [],
   "source": []
  },
  {
   "cell_type": "code",
   "execution_count": null,
   "id": "d2ecfbb3-d74b-4da5-9adb-2a402cdb001a",
   "metadata": {},
   "outputs": [],
   "source": []
  },
  {
   "cell_type": "code",
   "execution_count": null,
   "id": "e995be11-13f8-4ec1-80dd-2d7ca843f9c4",
   "metadata": {},
   "outputs": [],
   "source": []
  },
  {
   "cell_type": "code",
   "execution_count": null,
   "id": "b126063b-ce44-4ea4-9323-2a9a1738e70f",
   "metadata": {},
   "outputs": [],
   "source": []
  },
  {
   "cell_type": "code",
   "execution_count": null,
   "id": "a18236d6-2150-4a46-b658-a27cef241217",
   "metadata": {},
   "outputs": [],
   "source": []
  },
  {
   "cell_type": "code",
   "execution_count": null,
   "id": "db5bc86d-dbcc-43d6-a36c-2127ffea615a",
   "metadata": {},
   "outputs": [],
   "source": []
  }
 ],
 "metadata": {
  "kernelspec": {
   "display_name": "Python 3 (ipykernel)",
   "language": "python",
   "name": "python3"
  },
  "language_info": {
   "codemirror_mode": {
    "name": "ipython",
    "version": 3
   },
   "file_extension": ".py",
   "mimetype": "text/x-python",
   "name": "python",
   "nbconvert_exporter": "python",
   "pygments_lexer": "ipython3",
   "version": "3.10.4"
  }
 },
 "nbformat": 4,
 "nbformat_minor": 5
}
