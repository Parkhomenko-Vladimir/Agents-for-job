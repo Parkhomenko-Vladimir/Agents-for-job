{
 "cells": [
  {
   "cell_type": "code",
   "execution_count": 1,
   "id": "4bd64940-d47b-4bc7-8a52-542b8f7fcd50",
   "metadata": {},
   "outputs": [],
   "source": [
    "import torch as T\n",
    "import torch.nn as nn\n",
    "import gym\n",
    "import torch.optim as optim\n",
    "import numpy as np\n",
    "import torch.nn.functional as F\n",
    "from IPython.display import clear_output\n",
    "import os\n",
    "import collections\n",
    "import cv2"
   ]
  },
  {
   "cell_type": "markdown",
   "id": "6e36d6e6-9eb7-4d86-b04d-399a93290a3b",
   "metadata": {},
   "source": [
    "## NN"
   ]
  },
  {
   "cell_type": "code",
   "execution_count": 2,
   "id": "e3f0ec0b-3fc5-471d-b423-a6e44b08aa72",
   "metadata": {},
   "outputs": [],
   "source": [
    "class RNetwork(nn.Module):\n",
    "    def __init__(self, lr, n_actions, input_dims, chkpt_dir, name):\n",
    "        super(RNetwork, self).__init__()\n",
    "        \n",
    "        self.conv1 = nn.Conv2d(4, 32, 8, stride=4)\n",
    "        self.conv2 = nn.Conv2d(32, 32, 4, stride=2)\n",
    "        self.conv3 = nn.Conv2d(32, 32, 3, stride=1)\n",
    "        \n",
    "        fc_input_dims = self.calculate_conv_output_dims(input_dims)\n",
    "        \n",
    "        self.gru = nn.GRUCell(fc_input_dims, 64)\n",
    "        \n",
    "        self.fc3 = nn.Linear(64, 32)\n",
    "        self.V = nn.Linear(32, 1)\n",
    "        self.A = nn.Linear(32, n_actions)\n",
    "        self.optimizer = optim.RMSprop(self.parameters(), lr=lr)\n",
    "        \n",
    "        self.checkpoint_dir = chkpt_dir\n",
    "        self.checkpoint_file = os.path.join(self.checkpoint_dir, name)\n",
    "        \n",
    "        self.loss = nn.MSELoss()\n",
    "        self.device = T.device('cuda:0' if T.cuda.is_available() else 'cpu')\n",
    "        self.to(self.device)\n",
    "        self.double()\n",
    "        \n",
    "    def forward(self, state, h = None):\n",
    "        \n",
    "        conv1 = F.relu(self.conv1(state))\n",
    "        conv2 = F.relu(self.conv2(conv1))\n",
    "        conv3 = F.relu(self.conv3(conv2))\n",
    "        \n",
    "        conv_state = conv3.view(conv3.size()[0], -1)\n",
    "        \n",
    "        h = F.relu(self.gru(conv_state,h))\n",
    "        x = F.relu(self.fc3(h))\n",
    "        \n",
    "        V = self.V(x)\n",
    "        A = self.A(x)\n",
    "        \n",
    "        return V, A, h\n",
    "    \n",
    "    def calculate_conv_output_dims(self, input_dims):\n",
    "        state = T.zeros(1, 4, 84, 84)\n",
    "        dims = self.conv1(state)\n",
    "        dims = self.conv2(dims)\n",
    "        dims = self.conv3(dims)\n",
    "        return int(np.prod(dims.size()))\n",
    "\n",
    "    \n",
    "    def save_checkpoint(self):\n",
    "        print('... saving checkpoint ...')\n",
    "        T.save(self.state_dict(), self.checkpoint_file)\n",
    "\n",
    "    def load_checkpoint(self):\n",
    "        print('... loading checkpoint ...')\n",
    "        self.load_state_dict(T.load(self.checkpoint_file))\n",
    "    \n",
    "# model = RNetwork(0.01, env.action_space.n, env.observation_space.shape[0])"
   ]
  },
  {
   "cell_type": "markdown",
   "id": "3aa7c3c9-d67f-4172-a73d-e5a8dd1253eb",
   "metadata": {
    "tags": []
   },
   "source": [
    "## Agent"
   ]
  },
  {
   "cell_type": "code",
   "execution_count": 3,
   "id": "b2dd327b-ca8a-42f4-9b63-15d0da3745af",
   "metadata": {},
   "outputs": [],
   "source": [
    "class Agent():\n",
    "    def __init__(self, gamma, epsilon, lr, n_actions, input_dims,\n",
    "                 eps_min=0.5, eps_dec=5e-7):\n",
    "        self.gamma = gamma\n",
    "        self.epsilon = epsilon\n",
    "        self.lr = lr\n",
    "        self.n_actions = n_actions\n",
    "        self.input_dims = input_dims\n",
    "        self.eps_min = eps_min\n",
    "        self.eps_dec = eps_dec\n",
    "        self.q_eval = RNetwork(lr,\n",
    "                               env.action_space.n,\n",
    "                               env.observation_space.shape[0],\n",
    "                               chkpt_dir='tmp',\n",
    "                               name='RDDQN_' + str(self.lr))\n",
    "        self.q_next = RNetwork(lr,\n",
    "                               env.action_space.n,\n",
    "                               env.observation_space.shape[0],\n",
    "                               chkpt_dir='tmp',\n",
    "                               name='RDDQN_' + str(self.lr))\n",
    "        \n",
    "        self.replace_target_cnt = 50\n",
    "        self.learn_step_counter = 0\n",
    "        \n",
    "        self.state_memory = []\n",
    "        self.actions_memory = []\n",
    "        self.done_memory = []\n",
    "        self.reward_memory = []\n",
    "    \n",
    "    def clear_memory(self):\n",
    "        self.state_memory = []\n",
    "        self.actions_memory = []\n",
    "        self.done_memory = []\n",
    "        self.reward_memory = []\n",
    "    \n",
    "    def store_transition(self, state, action, reward, done):\n",
    "        self.state_memory.append(state)\n",
    "        self.actions_memory.append(action)\n",
    "        self.reward_memory.append(reward)\n",
    "        self.done_memory.append(done)\n",
    "\n",
    "    def choose_action(self, observation, h):\n",
    "        observation = T.tensor([observation], dtype = T.double).to(self.q_eval.device)\n",
    "        _, advantage, h = self.q_eval(observation, h)\n",
    "        \n",
    "        if np.random.random() > self.epsilon:\n",
    "            action = T.argmax(advantage).item()\n",
    "        else:\n",
    "            action = np.random.randint(self.n_actions)\n",
    "        \n",
    "        return action, h\n",
    "        \n",
    "    def butch_predict(self):\n",
    "        h = None\n",
    "        adv = []\n",
    "        val = []\n",
    "        for i in agent.state_memory[:-1]:\n",
    "            state = T.tensor([i], dtype = T.double).to(agent.q_eval.device)\n",
    "            v,a,h = agent.q_eval(state, h)\n",
    "            adv.append(a)\n",
    "            val.append(v)\n",
    "        return T.stack(adv).squeeze(1),T.stack(val).squeeze(1)\n",
    "    \n",
    "    def butch_predict_next(self):\n",
    "        h = None\n",
    "        adv = []\n",
    "        val = []\n",
    "        for i in agent.state_memory[1:]:\n",
    "            state = T.tensor([i], dtype = T.double).to(agent.q_eval.device)\n",
    "            v,a,h = agent.q_next(state, h)\n",
    "            adv.append(a)\n",
    "            val.append(v)\n",
    "        return T.stack(adv).squeeze(1),T.stack(val).squeeze(1)\n",
    "\n",
    "    def replace_target_network(self):\n",
    "        if self.learn_step_counter % self.replace_target_cnt == 0:\n",
    "            self.q_next.load_state_dict(self.q_eval.state_dict())\n",
    "\n",
    "    def decrement_epsilon(self):\n",
    "        self.epsilon = self.epsilon - self.eps_dec \\\n",
    "                           if self.epsilon > self.eps_min else self.eps_min\n",
    "        \n",
    "    def save_models(self):\n",
    "        self.q_eval.save_checkpoint()\n",
    "        self.q_next.save_checkpoint()\n",
    "\n",
    "    def load_models(self):\n",
    "        self.q_eval.load_checkpoint()\n",
    "        self.q_next.load_checkpoint()\n",
    "\n",
    "    def learn(self):\n",
    "        # states  = T.tensor(self.state_memory, dtype = T.double).to(self.q_eval.device)\n",
    "        actions = T.tensor(self.actions_memory).to(self.q_eval.device)\n",
    "        dones   = T.tensor(self.done_memory).to(self.q_eval.device)\n",
    "        rewards = T.tensor(self.reward_memory).to(self.q_eval.device)\n",
    "        \n",
    "        self.replace_target_network()\n",
    "        \n",
    "        self.q_eval.optimizer.zero_grad()\n",
    "        \n",
    "        indices = T.arange(len(self.actions_memory)).to(self.q_eval.device)\n",
    "\n",
    "        V_s, A_s   = self.butch_predict()\n",
    "        V_s_, A_s_ = self.butch_predict_next()\n",
    "        \n",
    "        q_pred = T.add(V_s,\n",
    "                        (A_s - A_s.mean(dim=1, keepdim=True)))[indices, actions]\n",
    "        q_next = T.add(V_s_,\n",
    "                        (A_s_ - A_s_.mean(dim=1, keepdim=True))).max(dim=1)[0]\n",
    "        \n",
    "        q_next[dones] = 0.0\n",
    "\n",
    "        q_target = rewards + self.gamma*q_next\n",
    "        loss = self.q_eval.loss(q_target, q_pred.to(T.double)).to(self.q_eval.device)\n",
    "        loss.backward()\n",
    "        self.q_eval.optimizer.step()\n",
    "\n",
    "        self.decrement_epsilon()\n",
    "        self.clear_memory()\n",
    "        self.learn_step_counter += 1"
   ]
  },
  {
   "cell_type": "markdown",
   "id": "60b1a0b9-e9ec-4e6d-ba82-75f1bc372c2e",
   "metadata": {
    "tags": []
   },
   "source": [
    "## Init"
   ]
  },
  {
   "cell_type": "code",
   "execution_count": 4,
   "id": "19169480-4672-4aaf-9564-e5cd25dd7a46",
   "metadata": {},
   "outputs": [],
   "source": [
    "class RepeatActionAndMaxFrame(gym.Wrapper):\n",
    "    def __init__(self, env=None, repeat=4, clip_reward=False, no_ops=0,\n",
    "                 fire_first=False):\n",
    "        super(RepeatActionAndMaxFrame, self).__init__(env)\n",
    "        self.repeat = repeat\n",
    "        self.shape = env.observation_space.low.shape\n",
    "        self.frame_buffer = np.zeros_like((2, self.shape))\n",
    "        self.clip_reward = clip_reward\n",
    "        self.no_ops = no_ops\n",
    "        self.fire_first = fire_first\n",
    "\n",
    "    def step(self, action):\n",
    "        t_reward = 0.0\n",
    "        done = False\n",
    "        for i in range(self.repeat):\n",
    "            obs, reward, done, info = self.env.step(action)\n",
    "            if self.clip_reward:\n",
    "                reward = np.clip(np.array([reward]), -1, 1)[0]\n",
    "            t_reward += reward\n",
    "            idx = i % 2\n",
    "            self.frame_buffer[idx] = obs\n",
    "            if done:\n",
    "                break\n",
    "\n",
    "        max_frame = np.maximum(self.frame_buffer[0], self.frame_buffer[1])\n",
    "        return max_frame, t_reward, done, info\n",
    "\n",
    "    def reset(self):\n",
    "        obs = self.env.reset()\n",
    "        no_ops = np.random.randint(self.no_ops) + 1 if self.no_ops > 0 else 0\n",
    "        for _ in range(no_ops):\n",
    "            _, _, done, _ = self.env.step(0)\n",
    "            if done:\n",
    "                self.env.reset()\n",
    "        if self.fire_first:\n",
    "            assert self.env.unwrapped.get_action_meanings()[1] == 'FIRE'\n",
    "            obs, _, _, _ = self.env.step(1)\n",
    "\n",
    "        self.frame_buffer = np.zeros_like((2, self.shape))\n",
    "        self.frame_buffer[0] = obs\n",
    "\n",
    "        return obs"
   ]
  },
  {
   "cell_type": "code",
   "execution_count": 5,
   "id": "e0496694-e32e-444c-9021-f962db6c398f",
   "metadata": {},
   "outputs": [],
   "source": [
    "class PreprocessFrame(gym.ObservationWrapper):\n",
    "    def __init__(self, shape, env=None):\n",
    "        super(PreprocessFrame, self).__init__(env)\n",
    "        self.shape = (shape[2], shape[0], shape[1])\n",
    "        self.observation_space = gym.spaces.Box(low=0.0, high=1.0,\n",
    "                                                shape=self.shape, dtype=np.float32)\n",
    "\n",
    "    def observation(self, obs):\n",
    "        new_frame = cv2.cvtColor(obs, cv2.COLOR_RGB2GRAY)\n",
    "        resized_screen = cv2.resize(new_frame, self.shape[1:],\n",
    "                                    interpolation=cv2.INTER_AREA)\n",
    "        new_obs = np.array(resized_screen, dtype=np.uint8).reshape(self.shape)\n",
    "        new_obs = new_obs / 255.0\n",
    "\n",
    "        return new_obs"
   ]
  },
  {
   "cell_type": "code",
   "execution_count": 6,
   "id": "fce7b4a2-61f0-4c69-85ee-0dfcdc840735",
   "metadata": {},
   "outputs": [],
   "source": [
    "class StackFrames(gym.ObservationWrapper):\n",
    "    def __init__(self, env, repeat):\n",
    "        super(StackFrames, self).__init__(env)\n",
    "        self.observation_space = gym.spaces.Box(\n",
    "            env.observation_space.low.repeat(repeat, axis=0),\n",
    "            env.observation_space.high.repeat(repeat, axis=0),\n",
    "            dtype=np.float32)\n",
    "        self.stack = collections.deque(maxlen=repeat)\n",
    "\n",
    "    def reset(self):\n",
    "        self.stack.clear()\n",
    "        observation = self.env.reset()\n",
    "        for _ in range(self.stack.maxlen):\n",
    "            self.stack.append(observation)\n",
    "\n",
    "        return np.array(self.stack).reshape(self.observation_space.low.shape)\n",
    "\n",
    "    def observation(self, observation):\n",
    "        self.stack.append(observation)\n",
    "\n",
    "        return np.array(self.stack).reshape(self.observation_space.low.shape)"
   ]
  },
  {
   "cell_type": "code",
   "execution_count": 7,
   "id": "d5f12e1e-b24f-4f26-9ae0-a98676eea252",
   "metadata": {},
   "outputs": [],
   "source": [
    "def make_env(env_name, shape=(84, 84, 1), repeat=4, clip_rewards=False,\n",
    "             no_ops=0, fire_first=False):\n",
    "    env = gym.make(env_name)\n",
    "    env = RepeatActionAndMaxFrame(env, repeat, clip_rewards, no_ops, fire_first)\n",
    "    env = PreprocessFrame(shape, env)\n",
    "    env = StackFrames(env, repeat)\n",
    "\n",
    "    return env"
   ]
  },
  {
   "cell_type": "code",
   "execution_count": 8,
   "id": "e099d3af-22ce-4b30-8b3f-8868f8e20b85",
   "metadata": {},
   "outputs": [
    {
     "name": "stderr",
     "output_type": "stream",
     "text": [
      "A.L.E: Arcade Learning Environment (version 0.7.4+069f8bd)\n",
      "[Powered by Stella]\n",
      "<__array_function__ internals>:180: VisibleDeprecationWarning: Creating an ndarray from ragged nested sequences (which is a list-or-tuple of lists-or-tuples-or ndarrays with different lengths or shapes) is deprecated. If you meant to do this, you must specify 'dtype=object' when creating the ndarray.\n"
     ]
    }
   ],
   "source": [
    "env = make_env(env_name='PongNoFrameskip-v4',repeat=4,\n",
    "                  clip_rewards=False, no_ops=0,\n",
    "                  fire_first=False)\n"
   ]
  },
  {
   "cell_type": "code",
   "execution_count": 9,
   "id": "1f20afee-cac9-496c-913e-212c0f7ae9e5",
   "metadata": {},
   "outputs": [],
   "source": [
    "agent = Agent(gamma = 0.97, \n",
    "              epsilon = 0.7, \n",
    "              lr = 0.005, \n",
    "              n_actions = env.action_space.n, \n",
    "              input_dims = env.observation_space.shape,\n",
    "              eps_min=0.05,\n",
    "              eps_dec=5e-3)"
   ]
  },
  {
   "cell_type": "markdown",
   "id": "5090a050-4b25-406a-a2e0-c7c3bd0a3f9b",
   "metadata": {
    "jp-MarkdownHeadingCollapsed": true,
    "tags": []
   },
   "source": [
    "## test"
   ]
  },
  {
   "cell_type": "code",
   "execution_count": 10,
   "id": "83d4a0a1-99c8-452e-8b66-a3645275dd7a",
   "metadata": {},
   "outputs": [],
   "source": [
    "# state = env.observation_space.sample()\n",
    "# state = T.tensor([state], dtype = T.double).to('cuda')"
   ]
  },
  {
   "cell_type": "code",
   "execution_count": 11,
   "id": "aa0b2520-f667-43d6-a4c5-08a23f6a52a6",
   "metadata": {},
   "outputs": [],
   "source": [
    "# agent.q_eval(state)"
   ]
  },
  {
   "cell_type": "code",
   "execution_count": null,
   "id": "1d3f65c5-6dd3-44b3-84d9-1e80b45f14a2",
   "metadata": {},
   "outputs": [],
   "source": []
  },
  {
   "cell_type": "markdown",
   "id": "261c0de1-b2c4-4bdd-a43e-453313e92410",
   "metadata": {},
   "source": [
    "## Main"
   ]
  },
  {
   "cell_type": "code",
   "execution_count": null,
   "id": "ece5d04f-a5ad-4ab8-8e57-e436be47927a",
   "metadata": {
    "tags": []
   },
   "outputs": [
    {
     "name": "stdout",
     "output_type": "stream",
     "text": [
      "250 -21.0 -20.96 0.05\n",
      "251 -21.0 -20.96 0.05\n",
      "252 -21.0 -20.97 0.05\n",
      "253 -21.0 -20.97 0.05\n",
      "254 -21.0 -20.97 0.05\n",
      "255 -21.0 -20.97 0.05\n",
      "256 -21.0 -20.97 0.05\n"
     ]
    }
   ],
   "source": [
    "best_score = -np.inf\n",
    "scores, eps_history = [], []\n",
    "\n",
    "num_games = 2000\n",
    "\n",
    "for i in range(num_games):\n",
    "    d = False\n",
    "    observation = env.reset()\n",
    "    agent.state_memory.append(observation)\n",
    "    h = None\n",
    "\n",
    "    score = 0\n",
    "\n",
    "    while not d:\n",
    "        a, h = agent.choose_action(observation, h)\n",
    "        observation_, r, d, info = env.step(a)\n",
    "        agent.store_transition(state = observation_,\n",
    "                               action = a,\n",
    "                               reward = r,\n",
    "                               done = d)\n",
    "        score += r\n",
    "        observation = observation_\n",
    "    agent.learn()\n",
    "    \n",
    "    scores.append(score)\n",
    "    eps_history.append(agent.epsilon)\n",
    "    \n",
    "    avg_score = np.mean(scores[-100:])\n",
    "    if avg_score > best_score:\n",
    "        agent.save_models()\n",
    "        best_score = avg_score\n",
    "    \n",
    "    if not bool(i%10):clear_output()\n",
    "    print(i, score, avg_score, agent.epsilon)"
   ]
  },
  {
   "cell_type": "code",
   "execution_count": null,
   "id": "69591865-8e65-473e-b5cd-238e4dadc921",
   "metadata": {},
   "outputs": [],
   "source": [
    "# states  = T.tensor(agent.state_memory, dtype = T.double).to(agent.q_eval.device)"
   ]
  },
  {
   "cell_type": "code",
   "execution_count": null,
   "id": "b88d257f-3a4a-49d1-98c3-3b1749fb6d74",
   "metadata": {},
   "outputs": [],
   "source": [
    "# adv = []\n",
    "# val = []\n",
    "\n",
    "# h = None\n",
    "# for i in agent.state_memory:\n",
    "#     state = T.tensor([i], dtype = T.double).to(agent.q_eval.device)\n",
    "#     # print(state)\n",
    "#     v,a,h = agent.q_eval(state, h)\n",
    "#     adv.append(a)\n",
    "#     val.append(v)\n",
    "# T.stack(adv).squeeze(1),T.stack(val).squeeze(1)"
   ]
  },
  {
   "cell_type": "code",
   "execution_count": null,
   "id": "1cf24a2d-5b67-410d-916c-6b2d596c72a9",
   "metadata": {},
   "outputs": [],
   "source": []
  },
  {
   "cell_type": "code",
   "execution_count": null,
   "id": "fdcb8a12-567d-4ed1-9489-0a4b201c4889",
   "metadata": {},
   "outputs": [],
   "source": []
  },
  {
   "cell_type": "markdown",
   "id": "350f8aac-4bc8-4104-ba74-63fedfaee935",
   "metadata": {},
   "source": [
    "## Plot"
   ]
  },
  {
   "cell_type": "code",
   "execution_count": null,
   "id": "3824232a-c859-4290-a535-eedfcaa4190f",
   "metadata": {},
   "outputs": [],
   "source": [
    "import matplotlib.pyplot as plt\n",
    "\n",
    "def plot_learning_curve(x, scores, epsilons, filename, lines=None):\n",
    "    fig=plt.figure()\n",
    "    ax=fig.add_subplot(111, label=\"1\")\n",
    "    ax2=fig.add_subplot(111, label=\"2\", frame_on=False)\n",
    "\n",
    "    ax.plot(x, epsilons, color=\"C0\")\n",
    "    ax.set_xlabel(\"Num games\", color=\"C0\")\n",
    "    ax.set_ylabel(\"Epsilon\", color=\"C0\")\n",
    "    ax.tick_params(axis='x', colors=\"C0\")\n",
    "    ax.tick_params(axis='y', colors=\"C0\")\n",
    "\n",
    "    N = len(scores)\n",
    "    running_avg = np.empty(N)\n",
    "    for t in range(N):\n",
    "        running_avg[t] = np.mean(scores[max(0, t-20):(t+1)])\n",
    "\n",
    "    ax2.scatter(x, running_avg, color=\"C1\")\n",
    "    ax2.axes.get_xaxis().set_visible(False)\n",
    "    ax2.yaxis.tick_right()\n",
    "    ax2.set_ylabel('Score', color=\"C1\")\n",
    "    ax2.yaxis.set_label_position('right')\n",
    "    ax2.tick_params(axis='y', colors=\"C1\")\n",
    "\n",
    "    if lines is not None:\n",
    "        for line in lines:\n",
    "            plt.axvline(x=line)\n",
    "\n",
    "    plt.savefig(filename)"
   ]
  },
  {
   "cell_type": "code",
   "execution_count": null,
   "id": "76eb8f81-d595-4cac-8724-e714e2d7a49a",
   "metadata": {},
   "outputs": [],
   "source": [
    "x = [i+1 for i in range(len(scores))]\n",
    "plot_learning_curve(x, scores, eps_history, filename = 'RDDQN.png')"
   ]
  },
  {
   "cell_type": "code",
   "execution_count": null,
   "id": "0a3f13b5-90b7-450d-ae8a-befa689b51a9",
   "metadata": {},
   "outputs": [],
   "source": []
  },
  {
   "cell_type": "code",
   "execution_count": null,
   "id": "e94b1ad0-95fe-4e01-862c-d2037eff63e4",
   "metadata": {},
   "outputs": [],
   "source": []
  },
  {
   "cell_type": "code",
   "execution_count": null,
   "id": "431d6b37-52ad-49e9-8119-a607f19e56e8",
   "metadata": {},
   "outputs": [],
   "source": []
  },
  {
   "cell_type": "code",
   "execution_count": null,
   "id": "4f9e80ca-2766-4099-bbd5-fa17baf12b14",
   "metadata": {},
   "outputs": [],
   "source": []
  },
  {
   "cell_type": "code",
   "execution_count": null,
   "id": "5ce4ceee-97ca-489b-9372-c02119710010",
   "metadata": {},
   "outputs": [],
   "source": []
  },
  {
   "cell_type": "code",
   "execution_count": null,
   "id": "53a446bb-2bcb-49df-9f29-dc72a0f38fd1",
   "metadata": {},
   "outputs": [],
   "source": []
  },
  {
   "cell_type": "code",
   "execution_count": null,
   "id": "693904fd-2b84-4373-b923-9b22a67e1c38",
   "metadata": {},
   "outputs": [],
   "source": []
  },
  {
   "cell_type": "code",
   "execution_count": null,
   "id": "7f2cc54c-c745-4b08-adb8-cbfe8b8518db",
   "metadata": {},
   "outputs": [],
   "source": []
  }
 ],
 "metadata": {
  "kernelspec": {
   "display_name": "Python 3 (ipykernel)",
   "language": "python",
   "name": "python3"
  },
  "language_info": {
   "codemirror_mode": {
    "name": "ipython",
    "version": 3
   },
   "file_extension": ".py",
   "mimetype": "text/x-python",
   "name": "python",
   "nbconvert_exporter": "python",
   "pygments_lexer": "ipython3",
   "version": "3.10.4"
  }
 },
 "nbformat": 4,
 "nbformat_minor": 5
}
