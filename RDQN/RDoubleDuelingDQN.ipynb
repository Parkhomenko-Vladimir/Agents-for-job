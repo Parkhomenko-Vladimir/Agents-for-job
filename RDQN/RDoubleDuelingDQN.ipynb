{
 "cells": [
  {
   "cell_type": "code",
   "execution_count": 1,
   "id": "4bd64940-d47b-4bc7-8a52-542b8f7fcd50",
   "metadata": {},
   "outputs": [],
   "source": [
    "import torch as T\n",
    "import torch.nn as nn\n",
    "import gym\n",
    "import torch.optim as optim\n",
    "import numpy as np\n",
    "import torch.nn.functional as F\n",
    "from IPython.display import clear_output\n",
    "import os"
   ]
  },
  {
   "cell_type": "markdown",
   "id": "6e36d6e6-9eb7-4d86-b04d-399a93290a3b",
   "metadata": {},
   "source": [
    "## NN"
   ]
  },
  {
   "cell_type": "code",
   "execution_count": 2,
   "id": "e3f0ec0b-3fc5-471d-b423-a6e44b08aa72",
   "metadata": {},
   "outputs": [],
   "source": [
    "class RNetwork(nn.Module):\n",
    "    def __init__(self, lr, n_actions, obs_shape, chkpt_dir, name):\n",
    "        super(RNetwork, self).__init__()\n",
    "\n",
    "        self.fc1 = nn.Linear(obs_shape, 128)\n",
    "        self.fc2 = nn.Linear(128, 32)\n",
    "        self.gru = nn.GRUCell(32, 32)\n",
    "        self.V = nn.Linear(32, 1)\n",
    "        self.A = nn.Linear(32, n_actions)\n",
    "\n",
    "        self.optimizer = optim.RMSprop(self.parameters(), lr=lr)\n",
    "        \n",
    "        self.checkpoint_dir = chkpt_dir\n",
    "        self.checkpoint_file = os.path.join(self.checkpoint_dir, name)\n",
    "        \n",
    "        self.loss = nn.MSELoss()\n",
    "        self.device = T.device('cuda:0' if T.cuda.is_available() else 'cpu')\n",
    "        self.to(self.device)\n",
    "        self.double()\n",
    "        \n",
    "    def forward(self, state, h = None):\n",
    "        x = F.relu(self.fc1(state))\n",
    "        x = F.relu(self.fc2(x))\n",
    "        h = F.relu(self.gru(x,h))\n",
    "        \n",
    "        V = self.V(h)\n",
    "        A = self.A(h)\n",
    "        \n",
    "        return V, A, h\n",
    "    \n",
    "    def save_checkpoint(self):\n",
    "        print('... saving checkpoint ...')\n",
    "        T.save(self.state_dict(), self.checkpoint_file)\n",
    "\n",
    "    def load_checkpoint(self):\n",
    "        print('... loading checkpoint ...')\n",
    "        self.load_state_dict(T.load(self.checkpoint_file))\n",
    "    \n",
    "# model = RNetwork(0.01, env.action_space.n, env.observation_space.shape[0])"
   ]
  },
  {
   "cell_type": "markdown",
   "id": "3aa7c3c9-d67f-4172-a73d-e5a8dd1253eb",
   "metadata": {},
   "source": [
    "## Agent"
   ]
  },
  {
   "cell_type": "code",
   "execution_count": 3,
   "id": "b2dd327b-ca8a-42f4-9b63-15d0da3745af",
   "metadata": {},
   "outputs": [],
   "source": [
    "class Agent():\n",
    "    def __init__(self, gamma, epsilon, lr, n_actions, input_dims,\n",
    "                 eps_min=0.5, eps_dec=5e-7):\n",
    "        self.gamma = gamma\n",
    "        self.epsilon = epsilon\n",
    "        self.lr = lr\n",
    "        self.n_actions = n_actions\n",
    "        self.input_dims = input_dims\n",
    "        self.eps_min = eps_min\n",
    "        self.eps_dec = eps_dec\n",
    "        self.q_eval = RNetwork(lr,\n",
    "                               env.action_space.n,\n",
    "                               env.observation_space.shape[0],\n",
    "                               chkpt_dir='tmp',\n",
    "                               name='RDoubleDduelingDQN-v1' + str(self.lr))\n",
    "        self.q_next = RNetwork(lr,\n",
    "                               env.action_space.n,\n",
    "                               env.observation_space.shape[0],\n",
    "                               chkpt_dir='tmp',\n",
    "                               name='RDoubleDduelingDQN-v1' + str(self.lr))\n",
    "        \n",
    "        self.replace_target_cnt = 50\n",
    "        self.learn_step_counter = 0\n",
    "        \n",
    "        self.state_memory = []\n",
    "        self.actions_memory = []\n",
    "        self.done_memory = []\n",
    "        self.reward_memory = []\n",
    "    \n",
    "    def clear_memory(self):\n",
    "        self.state_memory = []\n",
    "        self.actions_memory = []\n",
    "        self.done_memory = []\n",
    "        self.reward_memory = []\n",
    "    \n",
    "    def store_transition(self, state, action, reward, done):\n",
    "        self.state_memory.append(state)\n",
    "        self.actions_memory.append(action)\n",
    "        self.reward_memory.append(reward)\n",
    "        self.done_memory.append(done)\n",
    "\n",
    "    def choose_action(self, observation, h):\n",
    "        observation = T.tensor(observation, dtype = T.double).to(self.q_eval.device)\n",
    "        _, advantage, h = self.q_eval(observation, h)\n",
    "        \n",
    "        if np.random.random() > self.epsilon:\n",
    "            action = T.argmax(advantage).item()\n",
    "        else:\n",
    "            action = np.random.randint(self.n_actions)\n",
    "        \n",
    "        return action, h\n",
    "        \n",
    "    def butch_predict(self, state_sec):\n",
    "        h = None\n",
    "        adv = []\n",
    "        val = []\n",
    "        for i in state_sec:\n",
    "            v,a,h = self.q_eval(i, h )\n",
    "            adv.append(a)\n",
    "            val.append(v)\n",
    "        return T.stack(adv),T.stack(val)\n",
    "    \n",
    "    def butch_predict_next(self, state_sec):\n",
    "        h = None\n",
    "        adv = []\n",
    "        val = []\n",
    "        for i in state_sec:\n",
    "            v,a,h = self.q_eval(i, h )\n",
    "            adv.append(a)\n",
    "            val.append(v)\n",
    "        return T.stack(adv),T.stack(val)\n",
    "\n",
    "    def replace_target_network(self):\n",
    "        if self.learn_step_counter % self.replace_target_cnt == 0:\n",
    "            self.q_next.load_state_dict(self.q_eval.state_dict())\n",
    "\n",
    "    def decrement_epsilon(self):\n",
    "        self.epsilon = self.epsilon - self.eps_dec \\\n",
    "                           if self.epsilon > self.eps_min else self.eps_min\n",
    "        \n",
    "    def save_models(self):\n",
    "        self.q_eval.save_checkpoint()\n",
    "        self.q_next.save_checkpoint()\n",
    "\n",
    "    def load_models(self):\n",
    "        self.q_eval.load_checkpoint()\n",
    "        self.q_next.load_checkpoint()\n",
    "\n",
    "    def learn(self):\n",
    "        states  = T.tensor(self.state_memory, dtype = T.double).to(self.q_eval.device)\n",
    "        actions = T.tensor(self.actions_memory).to(self.q_eval.device)\n",
    "        dones   = T.tensor(self.done_memory).to(self.q_eval.device)\n",
    "        rewards = T.tensor(self.reward_memory).to(self.q_eval.device)\n",
    "        \n",
    "        self.replace_target_network()\n",
    "        \n",
    "        self.q_eval.optimizer.zero_grad()\n",
    "        \n",
    "        indices = T.arange(len(self.actions_memory)).to(self.q_eval.device)\n",
    "\n",
    "        V_s, A_s   = self.butch_predict(states[:-1])\n",
    "        V_s_, A_s_ = self.butch_predict_next(states[1:])\n",
    "        \n",
    "        q_pred = T.add(V_s,\n",
    "                        (A_s - A_s.mean(dim=1, keepdim=True)))[indices, actions]\n",
    "        q_next = T.add(V_s_,\n",
    "                        (A_s_ - A_s_.mean(dim=1, keepdim=True))).max(dim=1)[0]\n",
    "        \n",
    "        q_next[dones] = 0.0\n",
    "\n",
    "        q_target = rewards + self.gamma*q_next\n",
    "        loss = self.q_eval.loss(q_target, q_pred.to(T.double)).to(self.q_eval.device)\n",
    "        loss.backward()\n",
    "        self.q_eval.optimizer.step()\n",
    "\n",
    "        self.decrement_epsilon()\n",
    "        self.clear_memory()\n",
    "        self.learn_step_counter += 1"
   ]
  },
  {
   "cell_type": "markdown",
   "id": "60b1a0b9-e9ec-4e6d-ba82-75f1bc372c2e",
   "metadata": {},
   "source": [
    "## Init"
   ]
  },
  {
   "cell_type": "code",
   "execution_count": 4,
   "id": "1f20afee-cac9-496c-913e-212c0f7ae9e5",
   "metadata": {},
   "outputs": [
    {
     "name": "stderr",
     "output_type": "stream",
     "text": [
      "/home/parkhomenko/PycharmProjects/RL/venv/lib/python3.10/site-packages/gym/core.py:317: DeprecationWarning: \u001b[33mWARN: Initializing wrapper in old step API which returns one bool instead of two. It is recommended to set `new_step_api=True` to use new step API. This will be the default behaviour in future.\u001b[0m\n",
      "  deprecation(\n",
      "/home/parkhomenko/PycharmProjects/RL/venv/lib/python3.10/site-packages/gym/wrappers/step_api_compatibility.py:39: DeprecationWarning: \u001b[33mWARN: Initializing environment in old step API which returns one bool instead of two. It is recommended to set `new_step_api=True` to use new step API. This will be the default behaviour in future.\u001b[0m\n",
      "  deprecation(\n"
     ]
    }
   ],
   "source": [
    "env = gym.make('CartPole-v1')\n",
    "agent = Agent(gamma = 0.97, \n",
    "              epsilon = 0.5, \n",
    "              lr = 0.001, \n",
    "              n_actions = env.action_space.n, \n",
    "              input_dims = env.action_space.shape,\n",
    "              eps_min=0.05,\n",
    "              eps_dec=2e-3)"
   ]
  },
  {
   "cell_type": "markdown",
   "id": "261c0de1-b2c4-4bdd-a43e-453313e92410",
   "metadata": {},
   "source": [
    "## Main"
   ]
  },
  {
   "cell_type": "code",
   "execution_count": 5,
   "id": "ece5d04f-a5ad-4ab8-8e57-e436be47927a",
   "metadata": {},
   "outputs": [
    {
     "name": "stdout",
     "output_type": "stream",
     "text": [
      "1990 12.0 43.01 0.05\n",
      "1991 29.0 42.89 0.05\n",
      "1992 50.0 43.03 0.05\n",
      "1993 74.0 43.6 0.05\n",
      "1994 60.0 43.92 0.05\n",
      "1995 17.0 43.29 0.05\n",
      "1996 22.0 43.02 0.05\n",
      "1997 31.0 43.07 0.05\n",
      "1998 22.0 43.0 0.05\n",
      "1999 45.0 42.85 0.05\n"
     ]
    }
   ],
   "source": [
    "best_score = -np.inf\n",
    "scores, eps_history, avg_rewrd_history = [], [], []\n",
    "\n",
    "num_games = 2000\n",
    "\n",
    "for i in range(num_games):\n",
    "    d = False\n",
    "    observation = env.reset()\n",
    "    agent.state_memory.append(observation)\n",
    "    h = None\n",
    "\n",
    "    score = 0\n",
    "\n",
    "    while not d:\n",
    "        a, h = agent.choose_action(observation, h)\n",
    "        observation_, r, d, info = env.step(a)\n",
    "        agent.store_transition(state = observation_,\n",
    "                               action = a,\n",
    "                               reward = r,\n",
    "                               done = d)\n",
    "        score += r\n",
    "        observation = observation_\n",
    "    agent.learn()\n",
    "    \n",
    "    scores.append(score)\n",
    "    eps_history.append(agent.epsilon)    \n",
    "    avg_score = np.mean(scores[-100:])\n",
    "    avg_rewrd_history.append(avg_score)\n",
    "    \n",
    "    if avg_score > best_score:\n",
    "        agent.save_models()\n",
    "        best_score = avg_score\n",
    "    \n",
    "    if not bool(i%10):clear_output()\n",
    "    print(i, score, avg_score, agent.epsilon)"
   ]
  },
  {
   "cell_type": "markdown",
   "id": "350f8aac-4bc8-4104-ba74-63fedfaee935",
   "metadata": {},
   "source": [
    "## Plot"
   ]
  },
  {
   "cell_type": "code",
   "execution_count": 6,
   "id": "3824232a-c859-4290-a535-eedfcaa4190f",
   "metadata": {},
   "outputs": [],
   "source": [
    "import matplotlib.pyplot as plt\n",
    "\n",
    "def plot_learning_curve(x, scores, epsilons, filename, lines=None):\n",
    "    fig=plt.figure()\n",
    "    ax=fig.add_subplot(111, label=\"1\")\n",
    "    ax2=fig.add_subplot(111, label=\"2\", frame_on=False)\n",
    "\n",
    "    ax.plot(x, epsilons, color=\"C0\")\n",
    "    ax.set_xlabel(\"Num games\", color=\"C0\")\n",
    "    ax.set_ylabel(\"Epsilon\", color=\"C0\")\n",
    "    ax.tick_params(axis='x', colors=\"C0\")\n",
    "    ax.tick_params(axis='y', colors=\"C0\")\n",
    "\n",
    "    N = len(scores)\n",
    "    running_avg = np.empty(N)\n",
    "    for t in range(N):\n",
    "        running_avg[t] = np.mean(scores[max(0, t-20):(t+1)])\n",
    "\n",
    "    ax2.scatter(x, running_avg, color=\"C1\")\n",
    "    ax2.axes.get_xaxis().set_visible(False)\n",
    "    ax2.yaxis.tick_right()\n",
    "    ax2.set_ylabel('Score', color=\"C1\")\n",
    "    ax2.yaxis.set_label_position('right')\n",
    "    ax2.tick_params(axis='y', colors=\"C1\")\n",
    "\n",
    "    if lines is not None:\n",
    "        for line in lines:\n",
    "            plt.axvline(x=line)\n",
    "\n",
    "    plt.savefig(filename)"
   ]
  },
  {
   "cell_type": "code",
   "execution_count": 7,
   "id": "76eb8f81-d595-4cac-8724-e714e2d7a49a",
   "metadata": {},
   "outputs": [
    {
     "data": {
      "image/png": "[encoded data removed]",
      "text/plain": [
       "<Figure size 640x480 with 2 Axes>"
      ]
     },
     "metadata": {},
     "output_type": "display_data"
    }
   ],
   "source": [
    "x = [i+1 for i in range(len(scores))]\n",
    "plot_learning_curve(x, avg_rewrd_history, eps_history, filename = 'RDoubleDduelingDQN-v1.png')"
   ]
  },
  {
   "cell_type": "code",
   "execution_count": null,
   "id": "0a3f13b5-90b7-450d-ae8a-befa689b51a9",
   "metadata": {},
   "outputs": [],
   "source": []
  },
  {
   "cell_type": "code",
   "execution_count": null,
   "id": "e94b1ad0-95fe-4e01-862c-d2037eff63e4",
   "metadata": {},
   "outputs": [],
   "source": []
  },
  {
   "cell_type": "code",
   "execution_count": null,
   "id": "431d6b37-52ad-49e9-8119-a607f19e56e8",
   "metadata": {},
   "outputs": [],
   "source": []
  },
  {
   "cell_type": "code",
   "execution_count": null,
   "id": "4f9e80ca-2766-4099-bbd5-fa17baf12b14",
   "metadata": {},
   "outputs": [],
   "source": []
  },
  {
   "cell_type": "code",
   "execution_count": null,
   "id": "5ce4ceee-97ca-489b-9372-c02119710010",
   "metadata": {},
   "outputs": [],
   "source": []
  },
  {
   "cell_type": "code",
   "execution_count": null,
   "id": "53a446bb-2bcb-49df-9f29-dc72a0f38fd1",
   "metadata": {},
   "outputs": [],
   "source": []
  },
  {
   "cell_type": "code",
   "execution_count": null,
   "id": "693904fd-2b84-4373-b923-9b22a67e1c38",
   "metadata": {},
   "outputs": [],
   "source": []
  },
  {
   "cell_type": "code",
   "execution_count": null,
   "id": "7f2cc54c-c745-4b08-adb8-cbfe8b8518db",
   "metadata": {},
   "outputs": [],
   "source": []
  }
 ],
 "metadata": {
  "kernelspec": {
   "display_name": "Python 3 (ipykernel)",
   "language": "python",
   "name": "python3"
  },
  "language_info": {
   "codemirror_mode": {
    "name": "ipython",
    "version": 3
   },
   "file_extension": ".py",
   "mimetype": "text/x-python",
   "name": "python",
   "nbconvert_exporter": "python",
   "pygments_lexer": "ipython3",
   "version": "3.10.4"
  }
 },
 "nbformat": 4,
 "nbformat_minor": 5
}
