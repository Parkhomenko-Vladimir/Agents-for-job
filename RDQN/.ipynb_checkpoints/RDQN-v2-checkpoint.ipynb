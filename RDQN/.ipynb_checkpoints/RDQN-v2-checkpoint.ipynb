{
 "cells": [
  {
   "cell_type": "code",
   "execution_count": 1,
   "id": "4bd64940-d47b-4bc7-8a52-542b8f7fcd50",
   "metadata": {},
   "outputs": [],
   "source": [
    "import torch as T\n",
    "import torch.nn as nn\n",
    "import gym\n",
    "import torch.optim as optim\n",
    "import numpy as np\n",
    "import torch.nn.functional as F\n",
    "from IPython.display import clear_output\n",
    "import os"
   ]
  },
  {
   "cell_type": "markdown",
   "id": "534f9b25-af2d-48c5-b8b6-7ffedbaaedaa",
   "metadata": {},
   "source": [
    "# NN"
   ]
  },
  {
   "cell_type": "code",
   "execution_count": 2,
   "id": "e3f0ec0b-3fc5-471d-b423-a6e44b08aa72",
   "metadata": {},
   "outputs": [],
   "source": [
    "class RNetwork(nn.Module):\n",
    "    def __init__(self, lr, n_actions, obs_shape, chkpt_dir, name):\n",
    "        super(RNetwork, self).__init__()\n",
    "\n",
    "        self.fc1 = nn.Linear(obs_shape, 128)\n",
    "        self.fc2 = nn.Linear(128, 32)\n",
    "        self.gru = nn.GRUCell(32, 32)\n",
    "        self.fc3 = nn.Linear(32, n_actions)\n",
    "\n",
    "        self.optimizer = optim.RMSprop(self.parameters(), lr=lr)\n",
    "\n",
    "        self.checkpoint_dir = chkpt_dir\n",
    "        self.checkpoint_file = os.path.join(self.checkpoint_dir, name)\n",
    "        \n",
    "        self.loss = nn.MSELoss()\n",
    "        self.device = T.device('cuda:0' if T.cuda.is_available() else 'cpu')\n",
    "        self.to(self.device)\n",
    "        self.double()\n",
    "        \n",
    "    def forward(self, state, h = None):\n",
    "        x       = F.relu(self.fc1(state))\n",
    "        x       = F.relu(self.fc2(x))\n",
    "        h       = F.relu(self.gru(x,h))\n",
    "        actions = F.relu(self.fc3(h))\n",
    "        \n",
    "        return actions, h\n",
    "    \n",
    "    def save_checkpoint(self):\n",
    "        print('... saving checkpoint ...')\n",
    "        T.save(self.state_dict(), self.checkpoint_file)\n",
    "\n",
    "    def load_checkpoint(self):\n",
    "        print('... loading checkpoint ...')\n",
    "        self.load_state_dict(T.load(self.checkpoint_file))\n",
    "    \n",
    "# model = RNetwork(0.01, env.action_space.n, env.observation_space.shape[0])"
   ]
  },
  {
   "cell_type": "markdown",
   "id": "4a669195-fbed-4fec-b140-6a1b6746f3b0",
   "metadata": {},
   "source": [
    "## Agent"
   ]
  },
  {
   "cell_type": "code",
   "execution_count": 3,
   "id": "b2dd327b-ca8a-42f4-9b63-15d0da3745af",
   "metadata": {},
   "outputs": [],
   "source": [
    "class Agent():\n",
    "    def __init__(self, gamma, epsilon, lr, n_actions, input_dims,\n",
    "                 eps_min=0.5, eps_dec=5e-7):\n",
    "        self.gamma = gamma\n",
    "        self.epsilon = epsilon\n",
    "        self.lr = lr\n",
    "        self.n_actions = n_actions\n",
    "        self.input_dims = input_dims\n",
    "        self.eps_min = eps_min\n",
    "        self.eps_dec = eps_dec\n",
    "        self.model = RNetwork(lr,\n",
    "                              env.action_space.n,\n",
    "                              env.observation_space.shape[0],\n",
    "                              chkpt_dir='tmp',\n",
    "                              name='RDQN_' + str(self.lr))\n",
    "        \n",
    "        self.state_memory = []\n",
    "        self.actions_memory = []\n",
    "        self.done_memory = []\n",
    "        self.reward_memory = []\n",
    "    \n",
    "    def clear_memory(self):\n",
    "        self.state_memory = []\n",
    "        self.actions_memory = []\n",
    "        self.done_memory = []\n",
    "        self.reward_memory = []\n",
    "    \n",
    "    def store_transition(self, state, action, reward, done):\n",
    "        self.state_memory.append(state)\n",
    "        self.actions_memory.append(action)\n",
    "        self.reward_memory.append(reward)\n",
    "        self.done_memory.append(done)\n",
    "\n",
    "    def choose_action(self, observation, h):\n",
    "        observation = T.tensor(observation, dtype = T.double).to(self.model.device)\n",
    "        actions, h = self.model(observation, h)\n",
    "        \n",
    "        if np.random.random() > self.epsilon:\n",
    "            action = T.argmax(actions).item()\n",
    "        else:\n",
    "            action = np.random.randint(self.n_actions)\n",
    "        \n",
    "        return action, h\n",
    "        \n",
    "    def butch_predict(self, state_sec, h):\n",
    "        # h = None\n",
    "        m = []\n",
    "        for i in state_sec:\n",
    "            x,h = self.model(i, h )\n",
    "            m.append(x)\n",
    "        return T.stack(m)\n",
    "\n",
    "\n",
    "    def decrement_epsilon(self):\n",
    "        self.epsilon = self.epsilon - self.eps_dec \\\n",
    "                           if self.epsilon > self.eps_min else self.eps_min\n",
    "    \n",
    "    def save_models(self):\n",
    "        self.model.save_checkpoint()\n",
    "\n",
    "    def load_models(self):\n",
    "        self.model.load_checkpoint()\n",
    "\n",
    "    \n",
    "    def learn(self, hid):\n",
    "        states  = T.tensor(self.state_memory, dtype = T.double).to(self.model.device)\n",
    "        actions = T.tensor(self.actions_memory).to(self.model.device)\n",
    "        dones   = T.tensor(self.done_memory).to(self.model.device)\n",
    "        rewards = T.tensor(self.reward_memory).to(self.model.device)\n",
    "        \n",
    "        self.model.optimizer.zero_grad()\n",
    "        \n",
    "        indices = T.arange(len(self.actions_memory)).to(self.model.device)\n",
    "\n",
    "        q_pred = self.butch_predict(states[:-1], hid)[indices, actions]\n",
    "\n",
    "        q_next = self.butch_predict(states[1:], hid).max(dim=1)[0]\n",
    "        q_next[dones] = 0.0\n",
    "\n",
    "        q_target = rewards + self.gamma*q_next\n",
    "        loss = self.model.loss(q_target, q_pred.to(T.double)).to(self.model.device)\n",
    "        loss.backward()\n",
    "        self.model.optimizer.step()\n",
    "\n",
    "        self.decrement_epsilon()\n",
    "        self.clear_memory()\n",
    "        "
   ]
  },
  {
   "cell_type": "markdown",
   "id": "ab0a13f9-7a33-48b6-b4e5-adc272c58de0",
   "metadata": {},
   "source": [
    "## Init"
   ]
  },
  {
   "cell_type": "code",
   "execution_count": 4,
   "id": "1f20afee-cac9-496c-913e-212c0f7ae9e5",
   "metadata": {},
   "outputs": [],
   "source": [
    "env = gym.make('CartPole-v1')\n",
    "agent = Agent(gamma = 0.97, \n",
    "              epsilon = 0.09, \n",
    "              lr = 0.001, \n",
    "              n_actions = env.action_space.n, \n",
    "              input_dims = env.action_space.shape,\n",
    "              eps_min=0.05,\n",
    "              eps_dec=5e-7)"
   ]
  },
  {
   "cell_type": "markdown",
   "id": "1e519fc1-5021-47d5-b4f0-c439f870bcff",
   "metadata": {},
   "source": [
    "## Main"
   ]
  },
  {
   "cell_type": "code",
   "execution_count": 5,
   "id": "ece5d04f-a5ad-4ab8-8e57-e436be47927a",
   "metadata": {},
   "outputs": [
    {
     "name": "stdout",
     "output_type": "stream",
     "text": [
      "100 10.0 9.72 0.08995099999999995\n",
      "101 9.0 9.71 0.08995049999999995\n",
      "102 8.0 9.69 0.08995049999999995\n"
     ]
    },
    {
     "name": "stderr",
     "output_type": "stream",
     "text": [
      "../aten/src/ATen/native/cuda/IndexKernel.cu:91: operator(): block: [0,0,0], thread: [9,0,0] Assertion `index >= -sizes[i] && index < sizes[i] && \"index out of bounds\"` failed.\n"
     ]
    },
    {
     "ename": "RuntimeError",
     "evalue": "CUDA error: CUBLAS_STATUS_EXECUTION_FAILED when calling `cublasDgemm( handle, opa, opb, m, n, k, &alpha, a, lda, b, ldb, &beta, c, ldc)`",
     "output_type": "error",
     "traceback": [
      "\u001b[0;31m---------------------------------------------------------------------------\u001b[0m",
      "\u001b[0;31mRuntimeError\u001b[0m                              Traceback (most recent call last)",
      "Input \u001b[0;32mIn [5]\u001b[0m, in \u001b[0;36m<cell line: 9>\u001b[0;34m()\u001b[0m\n\u001b[1;32m     30\u001b[0m \u001b[38;5;66;03m# print(curent_step )\u001b[39;00m\n\u001b[1;32m     32\u001b[0m \u001b[38;5;28;01mif\u001b[39;00m curent_step \u001b[38;5;241m==\u001b[39m Num_explore_steps:\n\u001b[1;32m     33\u001b[0m     \u001b[38;5;66;03m# print(len(agent.actions_memory))\u001b[39;00m\n\u001b[0;32m---> 35\u001b[0m     \u001b[43magent\u001b[49m\u001b[38;5;241;43m.\u001b[39;49m\u001b[43mlearn\u001b[49m\u001b[43m(\u001b[49m\u001b[43mhidden\u001b[49m\u001b[43m)\u001b[49m\n\u001b[1;32m     36\u001b[0m     hidden \u001b[38;5;241m=\u001b[39m h\n\u001b[1;32m     37\u001b[0m     curent_step \u001b[38;5;241m=\u001b[39m \u001b[38;5;241m0\u001b[39m\n",
      "Input \u001b[0;32mIn [3]\u001b[0m, in \u001b[0;36mAgent.learn\u001b[0;34m(self, hid)\u001b[0m\n\u001b[1;32m     73\u001b[0m indices \u001b[38;5;241m=\u001b[39m T\u001b[38;5;241m.\u001b[39marange(\u001b[38;5;28mlen\u001b[39m(\u001b[38;5;28mself\u001b[39m\u001b[38;5;241m.\u001b[39mactions_memory))\u001b[38;5;241m.\u001b[39mto(\u001b[38;5;28mself\u001b[39m\u001b[38;5;241m.\u001b[39mmodel\u001b[38;5;241m.\u001b[39mdevice)\n\u001b[1;32m     75\u001b[0m q_pred \u001b[38;5;241m=\u001b[39m \u001b[38;5;28mself\u001b[39m\u001b[38;5;241m.\u001b[39mbutch_predict(states[:\u001b[38;5;241m-\u001b[39m\u001b[38;5;241m1\u001b[39m], hid)[indices, actions]\n\u001b[0;32m---> 77\u001b[0m q_next \u001b[38;5;241m=\u001b[39m \u001b[38;5;28;43mself\u001b[39;49m\u001b[38;5;241;43m.\u001b[39;49m\u001b[43mbutch_predict\u001b[49m\u001b[43m(\u001b[49m\u001b[43mstates\u001b[49m\u001b[43m[\u001b[49m\u001b[38;5;241;43m1\u001b[39;49m\u001b[43m:\u001b[49m\u001b[43m]\u001b[49m\u001b[43m,\u001b[49m\u001b[43m \u001b[49m\u001b[43mhid\u001b[49m\u001b[43m)\u001b[49m\u001b[38;5;241m.\u001b[39mmax(dim\u001b[38;5;241m=\u001b[39m\u001b[38;5;241m1\u001b[39m)[\u001b[38;5;241m0\u001b[39m]\n\u001b[1;32m     78\u001b[0m q_next[dones] \u001b[38;5;241m=\u001b[39m \u001b[38;5;241m0.0\u001b[39m\n\u001b[1;32m     80\u001b[0m q_target \u001b[38;5;241m=\u001b[39m rewards \u001b[38;5;241m+\u001b[39m \u001b[38;5;28mself\u001b[39m\u001b[38;5;241m.\u001b[39mgamma\u001b[38;5;241m*\u001b[39mq_next\n",
      "Input \u001b[0;32mIn [3]\u001b[0m, in \u001b[0;36mAgent.butch_predict\u001b[0;34m(self, state_sec, h)\u001b[0m\n\u001b[1;32m     47\u001b[0m m \u001b[38;5;241m=\u001b[39m []\n\u001b[1;32m     48\u001b[0m \u001b[38;5;28;01mfor\u001b[39;00m i \u001b[38;5;129;01min\u001b[39;00m state_sec:\n\u001b[0;32m---> 49\u001b[0m     x,h \u001b[38;5;241m=\u001b[39m \u001b[38;5;28;43mself\u001b[39;49m\u001b[38;5;241;43m.\u001b[39;49m\u001b[43mmodel\u001b[49m\u001b[43m(\u001b[49m\u001b[43mi\u001b[49m\u001b[43m,\u001b[49m\u001b[43m \u001b[49m\u001b[43mh\u001b[49m\u001b[43m \u001b[49m\u001b[43m)\u001b[49m\n\u001b[1;32m     50\u001b[0m     m\u001b[38;5;241m.\u001b[39mappend(x)\n\u001b[1;32m     51\u001b[0m \u001b[38;5;28;01mreturn\u001b[39;00m T\u001b[38;5;241m.\u001b[39mstack(m)\n",
      "File \u001b[0;32m~/.local/lib/python3.10/site-packages/torch/nn/modules/module.py:1130\u001b[0m, in \u001b[0;36mModule._call_impl\u001b[0;34m(self, *input, **kwargs)\u001b[0m\n\u001b[1;32m   1126\u001b[0m \u001b[38;5;66;03m# If we don't have any hooks, we want to skip the rest of the logic in\u001b[39;00m\n\u001b[1;32m   1127\u001b[0m \u001b[38;5;66;03m# this function, and just call forward.\u001b[39;00m\n\u001b[1;32m   1128\u001b[0m \u001b[38;5;28;01mif\u001b[39;00m \u001b[38;5;129;01mnot\u001b[39;00m (\u001b[38;5;28mself\u001b[39m\u001b[38;5;241m.\u001b[39m_backward_hooks \u001b[38;5;129;01mor\u001b[39;00m \u001b[38;5;28mself\u001b[39m\u001b[38;5;241m.\u001b[39m_forward_hooks \u001b[38;5;129;01mor\u001b[39;00m \u001b[38;5;28mself\u001b[39m\u001b[38;5;241m.\u001b[39m_forward_pre_hooks \u001b[38;5;129;01mor\u001b[39;00m _global_backward_hooks\n\u001b[1;32m   1129\u001b[0m         \u001b[38;5;129;01mor\u001b[39;00m _global_forward_hooks \u001b[38;5;129;01mor\u001b[39;00m _global_forward_pre_hooks):\n\u001b[0;32m-> 1130\u001b[0m     \u001b[38;5;28;01mreturn\u001b[39;00m \u001b[43mforward_call\u001b[49m\u001b[43m(\u001b[49m\u001b[38;5;241;43m*\u001b[39;49m\u001b[38;5;28;43minput\u001b[39;49m\u001b[43m,\u001b[49m\u001b[43m \u001b[49m\u001b[38;5;241;43m*\u001b[39;49m\u001b[38;5;241;43m*\u001b[39;49m\u001b[43mkwargs\u001b[49m\u001b[43m)\u001b[49m\n\u001b[1;32m   1131\u001b[0m \u001b[38;5;66;03m# Do not call functions when jit is used\u001b[39;00m\n\u001b[1;32m   1132\u001b[0m full_backward_hooks, non_full_backward_hooks \u001b[38;5;241m=\u001b[39m [], []\n",
      "Input \u001b[0;32mIn [2]\u001b[0m, in \u001b[0;36mRNetwork.forward\u001b[0;34m(self, state, h)\u001b[0m\n\u001b[1;32m     21\u001b[0m x       \u001b[38;5;241m=\u001b[39m F\u001b[38;5;241m.\u001b[39mrelu(\u001b[38;5;28mself\u001b[39m\u001b[38;5;241m.\u001b[39mfc1(state))\n\u001b[1;32m     22\u001b[0m x       \u001b[38;5;241m=\u001b[39m F\u001b[38;5;241m.\u001b[39mrelu(\u001b[38;5;28mself\u001b[39m\u001b[38;5;241m.\u001b[39mfc2(x))\n\u001b[0;32m---> 23\u001b[0m h       \u001b[38;5;241m=\u001b[39m F\u001b[38;5;241m.\u001b[39mrelu(\u001b[38;5;28;43mself\u001b[39;49m\u001b[38;5;241;43m.\u001b[39;49m\u001b[43mgru\u001b[49m\u001b[43m(\u001b[49m\u001b[43mx\u001b[49m\u001b[43m,\u001b[49m\u001b[43mh\u001b[49m\u001b[43m)\u001b[49m)\n\u001b[1;32m     24\u001b[0m actions \u001b[38;5;241m=\u001b[39m F\u001b[38;5;241m.\u001b[39mrelu(\u001b[38;5;28mself\u001b[39m\u001b[38;5;241m.\u001b[39mfc3(h))\n\u001b[1;32m     26\u001b[0m \u001b[38;5;28;01mreturn\u001b[39;00m actions, h\n",
      "File \u001b[0;32m~/.local/lib/python3.10/site-packages/torch/nn/modules/module.py:1130\u001b[0m, in \u001b[0;36mModule._call_impl\u001b[0;34m(self, *input, **kwargs)\u001b[0m\n\u001b[1;32m   1126\u001b[0m \u001b[38;5;66;03m# If we don't have any hooks, we want to skip the rest of the logic in\u001b[39;00m\n\u001b[1;32m   1127\u001b[0m \u001b[38;5;66;03m# this function, and just call forward.\u001b[39;00m\n\u001b[1;32m   1128\u001b[0m \u001b[38;5;28;01mif\u001b[39;00m \u001b[38;5;129;01mnot\u001b[39;00m (\u001b[38;5;28mself\u001b[39m\u001b[38;5;241m.\u001b[39m_backward_hooks \u001b[38;5;129;01mor\u001b[39;00m \u001b[38;5;28mself\u001b[39m\u001b[38;5;241m.\u001b[39m_forward_hooks \u001b[38;5;129;01mor\u001b[39;00m \u001b[38;5;28mself\u001b[39m\u001b[38;5;241m.\u001b[39m_forward_pre_hooks \u001b[38;5;129;01mor\u001b[39;00m _global_backward_hooks\n\u001b[1;32m   1129\u001b[0m         \u001b[38;5;129;01mor\u001b[39;00m _global_forward_hooks \u001b[38;5;129;01mor\u001b[39;00m _global_forward_pre_hooks):\n\u001b[0;32m-> 1130\u001b[0m     \u001b[38;5;28;01mreturn\u001b[39;00m \u001b[43mforward_call\u001b[49m\u001b[43m(\u001b[49m\u001b[38;5;241;43m*\u001b[39;49m\u001b[38;5;28;43minput\u001b[39;49m\u001b[43m,\u001b[49m\u001b[43m \u001b[49m\u001b[38;5;241;43m*\u001b[39;49m\u001b[38;5;241;43m*\u001b[39;49m\u001b[43mkwargs\u001b[49m\u001b[43m)\u001b[49m\n\u001b[1;32m   1131\u001b[0m \u001b[38;5;66;03m# Do not call functions when jit is used\u001b[39;00m\n\u001b[1;32m   1132\u001b[0m full_backward_hooks, non_full_backward_hooks \u001b[38;5;241m=\u001b[39m [], []\n",
      "File \u001b[0;32m~/.local/lib/python3.10/site-packages/torch/nn/modules/rnn.py:1279\u001b[0m, in \u001b[0;36mGRUCell.forward\u001b[0;34m(self, input, hx)\u001b[0m\n\u001b[1;32m   1276\u001b[0m \u001b[38;5;28;01melse\u001b[39;00m:\n\u001b[1;32m   1277\u001b[0m     hx \u001b[38;5;241m=\u001b[39m hx\u001b[38;5;241m.\u001b[39munsqueeze(\u001b[38;5;241m0\u001b[39m) \u001b[38;5;28;01mif\u001b[39;00m \u001b[38;5;129;01mnot\u001b[39;00m is_batched \u001b[38;5;28;01melse\u001b[39;00m hx\n\u001b[0;32m-> 1279\u001b[0m ret \u001b[38;5;241m=\u001b[39m \u001b[43m_VF\u001b[49m\u001b[38;5;241;43m.\u001b[39;49m\u001b[43mgru_cell\u001b[49m\u001b[43m(\u001b[49m\n\u001b[1;32m   1280\u001b[0m \u001b[43m    \u001b[49m\u001b[38;5;28;43minput\u001b[39;49m\u001b[43m,\u001b[49m\u001b[43m \u001b[49m\u001b[43mhx\u001b[49m\u001b[43m,\u001b[49m\n\u001b[1;32m   1281\u001b[0m \u001b[43m    \u001b[49m\u001b[38;5;28;43mself\u001b[39;49m\u001b[38;5;241;43m.\u001b[39;49m\u001b[43mweight_ih\u001b[49m\u001b[43m,\u001b[49m\u001b[43m \u001b[49m\u001b[38;5;28;43mself\u001b[39;49m\u001b[38;5;241;43m.\u001b[39;49m\u001b[43mweight_hh\u001b[49m\u001b[43m,\u001b[49m\n\u001b[1;32m   1282\u001b[0m \u001b[43m    \u001b[49m\u001b[38;5;28;43mself\u001b[39;49m\u001b[38;5;241;43m.\u001b[39;49m\u001b[43mbias_ih\u001b[49m\u001b[43m,\u001b[49m\u001b[43m \u001b[49m\u001b[38;5;28;43mself\u001b[39;49m\u001b[38;5;241;43m.\u001b[39;49m\u001b[43mbias_hh\u001b[49m\u001b[43m,\u001b[49m\n\u001b[1;32m   1283\u001b[0m \u001b[43m\u001b[49m\u001b[43m)\u001b[49m\n\u001b[1;32m   1285\u001b[0m \u001b[38;5;28;01mif\u001b[39;00m \u001b[38;5;129;01mnot\u001b[39;00m is_batched:\n\u001b[1;32m   1286\u001b[0m     ret \u001b[38;5;241m=\u001b[39m ret\u001b[38;5;241m.\u001b[39msqueeze(\u001b[38;5;241m0\u001b[39m)\n",
      "\u001b[0;31mRuntimeError\u001b[0m: CUDA error: CUBLAS_STATUS_EXECUTION_FAILED when calling `cublasDgemm( handle, opa, opb, m, n, k, &alpha, a, lda, b, ldb, &beta, c, ldc)`"
     ]
    }
   ],
   "source": [
    "best_score = -np.inf\n",
    "scores, eps_history = [], []\n",
    "\n",
    "num_games = 2000\n",
    "\n",
    "Num_explore_steps = 10\n",
    "curent_step = 0\n",
    "\n",
    "for i in range(num_games):\n",
    "    agent.clear_memory()\n",
    "    \n",
    "    observation = env.reset()\n",
    "    agent.state_memory.append(observation)\n",
    "    h = None\n",
    "    d = False\n",
    "\n",
    "    score = 0\n",
    "    hidden = h\n",
    "    \n",
    "    while not d:\n",
    "        a, h = agent.choose_action(observation, h)\n",
    "        observation_, r, d, info = env.step(a)\n",
    "        agent.store_transition(state = observation_,\n",
    "                               action = a,\n",
    "                               reward = r,\n",
    "                               done = d)\n",
    "        score += r\n",
    "        observation = observation_\n",
    "        curent_step += 1\n",
    "        # print(curent_step )\n",
    "\n",
    "        if curent_step == Num_explore_steps:\n",
    "            # print(len(agent.actions_memory))\n",
    "\n",
    "            agent.learn(hidden)\n",
    "            hidden = h\n",
    "            curent_step = 0\n",
    "    \n",
    "    scores.append(score)\n",
    "    eps_history.append(agent.epsilon)\n",
    "    \n",
    "    avg_score = np.mean(scores[-100:])\n",
    "    if avg_score > best_score:\n",
    "        agent.save_models()\n",
    "        best_score = avg_score\n",
    "    \n",
    "    if not bool(i%10):clear_output()\n",
    "    print(i, score, avg_score, agent.epsilon)"
   ]
  },
  {
   "cell_type": "markdown",
   "id": "311231fb-0bc4-4087-a10e-d0e15a78427b",
   "metadata": {},
   "source": [
    "## Plot"
   ]
  },
  {
   "cell_type": "code",
   "execution_count": null,
   "id": "431d6b37-52ad-49e9-8119-a607f19e56e8",
   "metadata": {},
   "outputs": [],
   "source": [
    "import matplotlib.pyplot as plt\n",
    "\n",
    "def plot_learning_curve(x, scores, epsilons, filename, lines=None):\n",
    "    fig=plt.figure()\n",
    "    ax=fig.add_subplot(111, label=\"1\")\n",
    "    ax2=fig.add_subplot(111, label=\"2\", frame_on=False)\n",
    "\n",
    "    ax.plot(x, epsilons, color=\"C0\")\n",
    "    ax.set_xlabel(\"Num games\", color=\"C0\")\n",
    "    ax.set_ylabel(\"Epsilon\", color=\"C0\")\n",
    "    ax.tick_params(axis='x', colors=\"C0\")\n",
    "    ax.tick_params(axis='y', colors=\"C0\")\n",
    "\n",
    "    N = len(scores)\n",
    "    running_avg = np.empty(N)\n",
    "    for t in range(N):\n",
    "        running_avg[t] = np.mean(scores[max(0, t-20):(t+1)])\n",
    "\n",
    "    ax2.scatter(x, running_avg, color=\"C1\")\n",
    "    ax2.axes.get_xaxis().set_visible(False)\n",
    "    ax2.yaxis.tick_right()\n",
    "    ax2.set_ylabel('Score', color=\"C1\")\n",
    "    ax2.yaxis.set_label_position('right')\n",
    "    ax2.tick_params(axis='y', colors=\"C1\")\n",
    "\n",
    "    if lines is not None:\n",
    "        for line in lines:\n",
    "            plt.axvline(x=line)\n",
    "\n",
    "    plt.savefig(filename)"
   ]
  },
  {
   "cell_type": "code",
   "execution_count": null,
   "id": "4f9e80ca-2766-4099-bbd5-fa17baf12b14",
   "metadata": {},
   "outputs": [],
   "source": [
    "x = [i+1 for i in range(len(scores))]\n",
    "plot_learning_curve(x, scores, eps_history, filename = 'RDQN.png')"
   ]
  },
  {
   "cell_type": "code",
   "execution_count": null,
   "id": "5ce4ceee-97ca-489b-9372-c02119710010",
   "metadata": {},
   "outputs": [],
   "source": []
  },
  {
   "cell_type": "code",
   "execution_count": null,
   "id": "53a446bb-2bcb-49df-9f29-dc72a0f38fd1",
   "metadata": {},
   "outputs": [],
   "source": []
  },
  {
   "cell_type": "code",
   "execution_count": null,
   "id": "693904fd-2b84-4373-b923-9b22a67e1c38",
   "metadata": {},
   "outputs": [],
   "source": []
  },
  {
   "cell_type": "code",
   "execution_count": null,
   "id": "7f2cc54c-c745-4b08-adb8-cbfe8b8518db",
   "metadata": {},
   "outputs": [],
   "source": []
  }
 ],
 "metadata": {
  "kernelspec": {
   "display_name": "Python 3 (ipykernel)",
   "language": "python",
   "name": "python3"
  },
  "language_info": {
   "codemirror_mode": {
    "name": "ipython",
    "version": 3
   },
   "file_extension": ".py",
   "mimetype": "text/x-python",
   "name": "python",
   "nbconvert_exporter": "python",
   "pygments_lexer": "ipython3",
   "version": "3.10.4"
  }
 },
 "nbformat": 4,
 "nbformat_minor": 5
}
