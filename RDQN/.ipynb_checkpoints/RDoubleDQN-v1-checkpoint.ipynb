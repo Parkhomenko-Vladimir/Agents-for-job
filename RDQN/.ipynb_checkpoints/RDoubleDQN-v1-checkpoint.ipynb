{
 "cells": [
  {
   "cell_type": "code",
   "execution_count": 1,
   "id": "4bd64940-d47b-4bc7-8a52-542b8f7fcd50",
   "metadata": {},
   "outputs": [],
   "source": [
    "import torch as T\n",
    "import torch.nn as nn\n",
    "import gym\n",
    "import torch.optim as optim\n",
    "import numpy as np\n",
    "import torch.nn.functional as F\n",
    "from IPython.display import clear_output"
   ]
  },
  {
   "cell_type": "code",
   "execution_count": 2,
   "id": "6c4e6b91-f3bb-43f1-b3d9-d20b7f42582a",
   "metadata": {},
   "outputs": [],
   "source": [
    "env = gym.make('CartPole-v1')"
   ]
  },
  {
   "cell_type": "code",
   "execution_count": 3,
   "id": "e3f0ec0b-3fc5-471d-b423-a6e44b08aa72",
   "metadata": {},
   "outputs": [],
   "source": [
    "class RNetwork(nn.Module):\n",
    "    def __init__(self, lr, n_actions, obs_shape):\n",
    "        super(RNetwork, self).__init__()\n",
    "\n",
    "        self.fc1 = nn.Linear(obs_shape, 128)\n",
    "        self.fc2 = nn.Linear(128, 32)\n",
    "        self.gru = nn.GRUCell(32, 32)\n",
    "        self.fc3 = nn.Linear(32, n_actions)\n",
    "\n",
    "        self.optimizer = optim.RMSprop(self.parameters(), lr=lr)\n",
    "\n",
    "        self.loss = nn.MSELoss()\n",
    "        self.device = T.device('cuda:0' if T.cuda.is_available() else 'cpu')\n",
    "        self.to(self.device)\n",
    "        self.double()\n",
    "        \n",
    "    def forward(self, state, h = None):\n",
    "        x       = F.relu(self.fc1(state))\n",
    "        x       = F.relu(self.fc2(x))\n",
    "        h       = F.relu(self.gru(x,h))\n",
    "        actions = F.relu(self.fc3(h))\n",
    "        \n",
    "        return actions, h\n",
    "    \n",
    "model = RNetwork(0.01, env.action_space.n, env.observation_space.shape[0])"
   ]
  },
  {
   "cell_type": "code",
   "execution_count": 4,
   "id": "f4374090-4f3a-45f1-9291-92c57a13bf0b",
   "metadata": {},
   "outputs": [],
   "source": [
    "# env.observation_space.shape[0]"
   ]
  },
  {
   "cell_type": "code",
   "execution_count": 5,
   "id": "9ea450ae-9056-463f-806b-98db2cb7c18d",
   "metadata": {},
   "outputs": [],
   "source": [
    "state = env.reset()\n",
    "l = []#.append(state)\n",
    "\n",
    "for i in range(5):\n",
    "    state,reward, done, info =  env.step(env.action_space.sample())\n",
    "    l.append(state)\n",
    "l = np.array(l)\n",
    "l = T.from_numpy(l).to('cuda')"
   ]
  },
  {
   "cell_type": "code",
   "execution_count": null,
   "id": "16d9bc23-40c4-419c-b68a-a271b9e6976d",
   "metadata": {},
   "outputs": [],
   "source": []
  },
  {
   "cell_type": "code",
   "execution_count": 6,
   "id": "189cc94f-0ffc-4f6d-a490-f82719fdea71",
   "metadata": {},
   "outputs": [],
   "source": [
    "# m = []\n",
    "# h = None\n",
    "# for i in l:\n",
    "#     x,h = model(i, h = None)\n",
    "#     m.append(x)\n",
    "#     print(x)"
   ]
  },
  {
   "cell_type": "code",
   "execution_count": 7,
   "id": "95c0372e-9d00-4897-bf49-829136d203db",
   "metadata": {},
   "outputs": [],
   "source": [
    "# T.stack(m)"
   ]
  },
  {
   "cell_type": "code",
   "execution_count": 8,
   "id": "b2dd327b-ca8a-42f4-9b63-15d0da3745af",
   "metadata": {},
   "outputs": [],
   "source": [
    "class Agent():\n",
    "    def __init__(self, gamma, epsilon, lr, n_actions, input_dims,\n",
    "                 eps_min=0.5, eps_dec=5e-7):\n",
    "        self.gamma = gamma\n",
    "        self.epsilon = epsilon\n",
    "        self.lr = lr\n",
    "        self.n_actions = n_actions\n",
    "        self.input_dims = input_dims\n",
    "        self.eps_min = eps_min\n",
    "        self.eps_dec = eps_dec\n",
    "        self.model = RNetwork(lr, env.action_space.n, env.observation_space.shape[0])\n",
    "        \n",
    "        self.state_memory = []\n",
    "        self.actions_memory = []\n",
    "        self.done_memory = []\n",
    "        self.reward_memory = []\n",
    "    \n",
    "    def clear_memory(self):\n",
    "        self.state_memory = []\n",
    "        self.actions_memory = []\n",
    "        self.done_memory = []\n",
    "        self.reward_memory = []\n",
    "    \n",
    "    def store_transition(self, state, action, reward, done):\n",
    "        self.state_memory.append(state)\n",
    "        self.actions_memory.append(action)\n",
    "        self.reward_memory.append(reward)\n",
    "        self.done_memory.append(done)\n",
    "\n",
    "    def choose_action(self, observation, h):\n",
    "        observation = T.tensor(observation, dtype = T.double).to(self.model.device)\n",
    "        actions, h = self.model(observation, h)\n",
    "        \n",
    "        if np.random.random() > self.epsilon:\n",
    "            action = T.argmax(actions).item()\n",
    "        else:\n",
    "            action = np.random.randint(self.n_actions)\n",
    "        \n",
    "        return action, h\n",
    "        \n",
    "    def butch_predict(self, state_sec):\n",
    "        h = None\n",
    "        m = []\n",
    "        for i in state_sec:\n",
    "            x,h = self.model(i, h )\n",
    "            m.append(x)\n",
    "        return T.stack(m)\n",
    "\n",
    "\n",
    "    def decrement_epsilon(self):\n",
    "        self.epsilon = self.epsilon - self.eps_dec \\\n",
    "                           if self.epsilon > self.eps_min else self.eps_min\n",
    "\n",
    "    def learn(self):\n",
    "        states  = T.tensor(self.state_memory, dtype = T.double).to(self.model.device)\n",
    "        actions = T.tensor(self.actions_memory).to(self.model.device)\n",
    "        dones   = T.tensor(self.done_memory).to(self.model.device)\n",
    "        rewards = T.tensor(self.reward_memory).to(self.model.device)\n",
    "        \n",
    "        self.model.optimizer.zero_grad()\n",
    "        \n",
    "        indices = T.arange(len(self.actions_memory)).to(self.model.device)\n",
    "\n",
    "        q_pred = self.butch_predict(states[:-1])[indices, actions]\n",
    "\n",
    "        q_next = self.butch_predict(states[1:]).max(dim=1)[0]\n",
    "        q_next[dones] = 0.0\n",
    "\n",
    "        q_target = rewards + self.gamma*q_next\n",
    "        loss = self.model.loss(q_target, q_pred.to(T.double)).to(self.model.device)\n",
    "        loss.backward()\n",
    "        self.model.optimizer.step()\n",
    "\n",
    "        self.decrement_epsilon()\n",
    "        self.clear_memory()\n",
    "        "
   ]
  },
  {
   "cell_type": "code",
   "execution_count": null,
   "id": "a71402d1-0faf-4288-ae07-1ed34c48b845",
   "metadata": {},
   "outputs": [],
   "source": []
  },
  {
   "cell_type": "code",
   "execution_count": 9,
   "id": "1f20afee-cac9-496c-913e-212c0f7ae9e5",
   "metadata": {},
   "outputs": [],
   "source": [
    "env = gym.make('CartPole-v1')\n",
    "agent = Agent(gamma = 0.97, \n",
    "              epsilon = 0.09, \n",
    "              lr = 0.001, \n",
    "              n_actions = env.action_space.n, \n",
    "              input_dims = env.action_space.shape,\n",
    "              eps_min=0.05,\n",
    "              eps_dec=5e-7)"
   ]
  },
  {
   "cell_type": "code",
   "execution_count": null,
   "id": "6cee10dd-359e-44d1-93a0-eac9e5df15cc",
   "metadata": {},
   "outputs": [],
   "source": []
  },
  {
   "cell_type": "code",
   "execution_count": null,
   "id": "ece5d04f-a5ad-4ab8-8e57-e436be47927a",
   "metadata": {},
   "outputs": [],
   "source": [
    "\n",
    "scores = []\n",
    "\n",
    "for i in range(2000):\n",
    "    d = False\n",
    "    observation = env.reset()\n",
    "    agent.state_memory.append(observation)\n",
    "    h = None\n",
    "\n",
    "    score = 0\n",
    "\n",
    "    while not d:\n",
    "        a, h = agent.choose_action(observation, h)\n",
    "\n",
    "        observation_, r, d, info = env.step(a)\n",
    "        agent.store_transition(state = observation_,\n",
    "                               action = a,\n",
    "                               reward = r,\n",
    "                               done = d)\n",
    "        score += r\n",
    "\n",
    "        observation = observation_\n",
    "    al = len(agent.actions_memory)\n",
    "    agent.learn()\n",
    "    \n",
    "    scores.append(score)\n",
    "    avg_score = np.mean(scores[-100:])\n",
    "    if i // 10: clear_output()\n",
    "    \n",
    "    print(i,avg_score, agent.epsilon, al)"
   ]
  },
  {
   "cell_type": "code",
   "execution_count": 11,
   "id": "3824232a-c859-4290-a535-eedfcaa4190f",
   "metadata": {},
   "outputs": [],
   "source": [
    "# states = T.from_numpy(np.array(agent.state_memory)).to(agent.model.device)\n",
    "# actions = T.from_numpy(np.array(agent.actions_memory)).to(agent.model.device)\n",
    "# dones = T.from_numpy(np.array(agent.done_memory)).to(agent.model.device)\n",
    "# rewards = T.from_numpy(np.array(agent.reward_memory)).to(agent.model.device)"
   ]
  },
  {
   "cell_type": "code",
   "execution_count": 12,
   "id": "76eb8f81-d595-4cac-8724-e714e2d7a49a",
   "metadata": {},
   "outputs": [],
   "source": [
    "# indices = T.arange(len(agent.actions_memory)).to(agent.model.device)\n",
    "\n",
    "# q_pred = agent.butch_predict(states[:-1])[indices, actions]\n",
    "\n",
    "# q_next = agent.butch_predict(states[1:]).max(dim=1)[0]\n",
    "# q_next[dones] = 0.0\n",
    "\n",
    "# q_target = rewards + agent.gamma*q_next\n",
    "\n",
    "#         loss = self.q_eval.loss(q_target, q_pred).to(self.q_eval.device)\n",
    "#         loss.backward()\n",
    "#         self.q_eval.optimizer.step()\n",
    "#         self.learn_step_counter += 1\n",
    "\n",
    "#         self.decrement_epsilon()"
   ]
  },
  {
   "cell_type": "code",
   "execution_count": 13,
   "id": "0a3f13b5-90b7-450d-ae8a-befa689b51a9",
   "metadata": {},
   "outputs": [],
   "source": [
    "# q_pred[indices, actions]"
   ]
  },
  {
   "cell_type": "code",
   "execution_count": 14,
   "id": "e94b1ad0-95fe-4e01-862c-d2037eff63e4",
   "metadata": {},
   "outputs": [],
   "source": [
    "# states[1:],states"
   ]
  },
  {
   "cell_type": "code",
   "execution_count": null,
   "id": "431d6b37-52ad-49e9-8119-a607f19e56e8",
   "metadata": {},
   "outputs": [],
   "source": []
  },
  {
   "cell_type": "code",
   "execution_count": null,
   "id": "4f9e80ca-2766-4099-bbd5-fa17baf12b14",
   "metadata": {},
   "outputs": [],
   "source": []
  },
  {
   "cell_type": "code",
   "execution_count": null,
   "id": "5ce4ceee-97ca-489b-9372-c02119710010",
   "metadata": {},
   "outputs": [],
   "source": []
  },
  {
   "cell_type": "code",
   "execution_count": null,
   "id": "53a446bb-2bcb-49df-9f29-dc72a0f38fd1",
   "metadata": {},
   "outputs": [],
   "source": []
  },
  {
   "cell_type": "code",
   "execution_count": null,
   "id": "693904fd-2b84-4373-b923-9b22a67e1c38",
   "metadata": {},
   "outputs": [],
   "source": []
  },
  {
   "cell_type": "code",
   "execution_count": null,
   "id": "7f2cc54c-c745-4b08-adb8-cbfe8b8518db",
   "metadata": {},
   "outputs": [],
   "source": []
  }
 ],
 "metadata": {
  "kernelspec": {
   "display_name": "Python 3 (ipykernel)",
   "language": "python",
   "name": "python3"
  },
  "language_info": {
   "codemirror_mode": {
    "name": "ipython",
    "version": 3
   },
   "file_extension": ".py",
   "mimetype": "text/x-python",
   "name": "python",
   "nbconvert_exporter": "python",
   "pygments_lexer": "ipython3",
   "version": "3.10.4"
  }
 },
 "nbformat": 4,
 "nbformat_minor": 5
}
