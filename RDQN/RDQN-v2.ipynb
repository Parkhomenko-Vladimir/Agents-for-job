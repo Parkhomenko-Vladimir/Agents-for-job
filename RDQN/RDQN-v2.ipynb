{
 "cells": [
  {
   "cell_type": "code",
   "execution_count": 1,
   "id": "4bd64940-d47b-4bc7-8a52-542b8f7fcd50",
   "metadata": {},
   "outputs": [],
   "source": [
    "import torch as T\n",
    "import torch.nn as nn\n",
    "import gym\n",
    "import torch.optim as optim\n",
    "import numpy as np\n",
    "import torch.nn.functional as F\n",
    "from IPython.display import clear_output\n",
    "import os"
   ]
  },
  {
   "cell_type": "markdown",
   "id": "534f9b25-af2d-48c5-b8b6-7ffedbaaedaa",
   "metadata": {},
   "source": [
    "# NN"
   ]
  },
  {
   "cell_type": "code",
   "execution_count": 2,
   "id": "e3f0ec0b-3fc5-471d-b423-a6e44b08aa72",
   "metadata": {},
   "outputs": [],
   "source": [
    "class RNetwork(nn.Module):\n",
    "    def __init__(self, lr, n_actions, obs_shape, chkpt_dir, name):\n",
    "        super(RNetwork, self).__init__()\n",
    "\n",
    "        self.fc1 = nn.Linear(obs_shape, 128)\n",
    "        self.fc2 = nn.Linear(128, 32)\n",
    "        self.gru = nn.GRUCell(32 ,32)\n",
    "        self.fc3 = nn.Linear(32, n_actions)\n",
    "\n",
    "        self.optimizer = optim.RMSprop(self.parameters(), lr=lr)\n",
    "\n",
    "        self.checkpoint_dir = chkpt_dir\n",
    "        self.checkpoint_file = os.path.join(self.checkpoint_dir, name)\n",
    "        \n",
    "        self.loss = nn.MSELoss()\n",
    "        self.device = T.device('cuda:0' if T.cuda.is_available() else 'cpu')\n",
    "        self.to(self.device)\n",
    "        self.float()\n",
    "        \n",
    "    def forward(self, state, h):\n",
    "        x       = F.relu(self.fc1(state))\n",
    "        x       = F.relu(self.fc2(x))\n",
    "        h       = F.relu(self.gru(x,h))\n",
    "        actions = F.relu(self.fc3(h))\n",
    "        \n",
    "        return actions, h\n",
    "    \n",
    "    def save_checkpoint(self):\n",
    "        print('... saving checkpoint ...')\n",
    "        T.save(self.state_dict(), self.checkpoint_file)\n",
    "\n",
    "    def load_checkpoint(self):\n",
    "        print('... loading checkpoint ...')\n",
    "        self.load_state_dict(T.load(self.checkpoint_file))\n",
    "    \n",
    "# model = RNetwork(0.01, env.action_space.n, env.observation_space.shape[0])"
   ]
  },
  {
   "cell_type": "markdown",
   "id": "4a669195-fbed-4fec-b140-6a1b6746f3b0",
   "metadata": {},
   "source": [
    "## Agent"
   ]
  },
  {
   "cell_type": "code",
   "execution_count": 3,
   "id": "b2dd327b-ca8a-42f4-9b63-15d0da3745af",
   "metadata": {},
   "outputs": [],
   "source": [
    "class Agent():\n",
    "    def __init__(self, gamma, epsilon, lr, n_actions, input_dims,\n",
    "                 eps_min=0.5, eps_dec=5e-7):\n",
    "        self.gamma = gamma\n",
    "        self.epsilon = epsilon\n",
    "        self.lr = lr\n",
    "        self.n_actions = n_actions\n",
    "        self.input_dims = input_dims\n",
    "        self.eps_min = eps_min\n",
    "        self.eps_dec = eps_dec\n",
    "        self.model = RNetwork(lr,\n",
    "                              env.action_space.n,\n",
    "                              env.observation_space.shape[0],\n",
    "                              chkpt_dir='tmp',\n",
    "                              name='RDQN_v2' + str(self.lr))\n",
    "        \n",
    "        self.state_memory = []\n",
    "        self.actions_memory = []\n",
    "        self.done_memory = []\n",
    "        self.reward_memory = []\n",
    "    \n",
    "    def clear_memory(self):\n",
    "        self.state_memory = []\n",
    "        self.actions_memory = []\n",
    "        self.done_memory = []\n",
    "        self.reward_memory = []\n",
    "    \n",
    "    def store_transition(self, state, action, reward, done):\n",
    "        self.state_memory.append(state)\n",
    "        self.actions_memory.append(action)\n",
    "        self.reward_memory.append(reward)\n",
    "        self.done_memory.append(done)\n",
    "\n",
    "    def choose_action(self, observation, h):\n",
    "        observation = T.tensor(observation, dtype = T.float).to(self.model.device)\n",
    "        actions, h = self.model(observation, h)\n",
    "        \n",
    "        if np.random.random() > self.epsilon:\n",
    "            action = T.argmax(actions).item()\n",
    "        else:\n",
    "            action = np.random.randint(self.n_actions)\n",
    "        \n",
    "        return action, h\n",
    "        \n",
    "    def butch_predict(self, state_sec, h):\n",
    "        m = []\n",
    "        for i in state_sec:\n",
    "            x,h = self.model(i, h )\n",
    "            m.append(x)\n",
    "        return T.stack(m)\n",
    "\n",
    "\n",
    "    def decrement_epsilon(self):\n",
    "        self.epsilon = self.epsilon - self.eps_dec \\\n",
    "                           if self.epsilon > self.eps_min else self.eps_min\n",
    "    \n",
    "    def save_models(self):\n",
    "        self.model.save_checkpoint()\n",
    "\n",
    "    def load_models(self):\n",
    "        self.model.load_checkpoint()\n",
    "\n",
    "    \n",
    "    def learn(self, hid):\n",
    "        states  = T.tensor(self.state_memory, dtype = T.float).to(self.model.device)\n",
    "        actions = T.tensor(self.actions_memory).to(self.model.device)\n",
    "        dones   = T.tensor(self.done_memory).to(self.model.device)\n",
    "        rewards = T.tensor(self.reward_memory).to(self.model.device)\n",
    "            \n",
    "        indices = T.arange(len(self.actions_memory)).to(self.model.device)\n",
    "        \n",
    "        q = self.butch_predict(states, hid)\n",
    "        q_pred = q[:-1][indices, actions]\n",
    "        q_next = q[1:].max(dim=1)[0]\n",
    "        \n",
    "        q_next[dones] = 0.0\n",
    "\n",
    "        q_target = rewards + self.gamma*q_next\n",
    "        loss = self.model.loss(q_target, q_pred).to(self.model.device)\n",
    "        loss.backward()\n",
    "        self.model.optimizer.step()\n",
    "\n",
    "        self.decrement_epsilon()\n",
    "        self.clear_memory()\n",
    "        "
   ]
  },
  {
   "cell_type": "markdown",
   "id": "ab0a13f9-7a33-48b6-b4e5-adc272c58de0",
   "metadata": {},
   "source": [
    "## Init"
   ]
  },
  {
   "cell_type": "code",
   "execution_count": 4,
   "id": "1f20afee-cac9-496c-913e-212c0f7ae9e5",
   "metadata": {},
   "outputs": [
    {
     "name": "stderr",
     "output_type": "stream",
     "text": [
      "/home/parkhomenko/PycharmProjects/RL/venv/lib/python3.10/site-packages/gym/core.py:317: DeprecationWarning: \u001b[33mWARN: Initializing wrapper in old step API which returns one bool instead of two. It is recommended to set `new_step_api=True` to use new step API. This will be the default behaviour in future.\u001b[0m\n",
      "  deprecation(\n",
      "/home/parkhomenko/PycharmProjects/RL/venv/lib/python3.10/site-packages/gym/wrappers/step_api_compatibility.py:39: DeprecationWarning: \u001b[33mWARN: Initializing environment in old step API which returns one bool instead of two. It is recommended to set `new_step_api=True` to use new step API. This will be the default behaviour in future.\u001b[0m\n",
      "  deprecation(\n"
     ]
    }
   ],
   "source": [
    "env = gym.make('CartPole-v1')\n",
    "agent = Agent(gamma = 0.95, \n",
    "              epsilon = 0.3, \n",
    "              lr = 0.01, \n",
    "              n_actions = env.action_space.n, \n",
    "              input_dims = env.action_space.shape,\n",
    "              eps_min=0.05,\n",
    "              eps_dec=2e-3)"
   ]
  },
  {
   "cell_type": "markdown",
   "id": "1e519fc1-5021-47d5-b4f0-c439f870bcff",
   "metadata": {},
   "source": [
    "## Main"
   ]
  },
  {
   "cell_type": "code",
   "execution_count": 5,
   "id": "ece5d04f-a5ad-4ab8-8e57-e436be47927a",
   "metadata": {},
   "outputs": [
    {
     "name": "stdout",
     "output_type": "stream",
     "text": [
      "1990 11.0 9.55 0.05\n",
      "1991 10.0 9.57 0.05\n",
      "1992 9.0 9.57 0.05\n",
      "1993 9.0 9.56 0.05\n",
      "1994 11.0 9.57 0.05\n",
      "1995 10.0 9.59 0.05\n",
      "1996 11.0 9.62 0.05\n",
      "1997 10.0 9.64 0.05\n",
      "1998 9.0 9.64 0.05\n",
      "1999 10.0 9.64 0.05\n"
     ]
    }
   ],
   "source": [
    "best_score = -np.inf\n",
    "scores, eps_history, avg_score_history = [], [], []\n",
    "\n",
    "num_games = 2000\n",
    "Num_explore_steps = 5\n",
    "\n",
    "\n",
    "for i in range(num_games):\n",
    "    agent.clear_memory()\n",
    "    \n",
    "    observation = env.reset()\n",
    "    agent.state_memory.append(observation)\n",
    "  \n",
    "    h = None\n",
    "    d = False\n",
    "    score = 0\n",
    "    hidden = h\n",
    "    curent_step = 0\n",
    "    \n",
    "    while not d:\n",
    "        a, h = agent.choose_action(observation, h)\n",
    "        observation_, r, d, info = env.step(a)\n",
    "        agent.store_transition(state = observation_,\n",
    "                               action = a,\n",
    "                               reward = r,\n",
    "                               done = d)\n",
    "        score += r\n",
    "        observation = observation_\n",
    "        curent_step += 1\n",
    "\n",
    "        if curent_step == Num_explore_steps:\n",
    "            agent.learn(hidden)\n",
    "            hidden = h.detach()\n",
    "            curent_step = 0\n",
    "            agent.state_memory.append(observation_)\n",
    "    \n",
    "    scores.append(score)\n",
    "    eps_history.append(agent.epsilon)\n",
    "    \n",
    "    avg_score = np.mean(scores[-100:])\n",
    "    avg_score_history.append(avg_score)\n",
    "    if avg_score > best_score:\n",
    "        agent.save_models()\n",
    "        best_score = avg_score\n",
    "    \n",
    "    if not bool(i%10):clear_output()\n",
    "    print(i, score, avg_score, agent.epsilon)"
   ]
  },
  {
   "cell_type": "markdown",
   "id": "311231fb-0bc4-4087-a10e-d0e15a78427b",
   "metadata": {},
   "source": [
    "## Plot"
   ]
  },
  {
   "cell_type": "code",
   "execution_count": 6,
   "id": "431d6b37-52ad-49e9-8119-a607f19e56e8",
   "metadata": {},
   "outputs": [],
   "source": [
    "import matplotlib.pyplot as plt\n",
    "\n",
    "def plot_learning_curve(x, scores, epsilons, filename, lines=None):\n",
    "    fig=plt.figure()\n",
    "    ax=fig.add_subplot(111, label=\"1\")\n",
    "    ax2=fig.add_subplot(111, label=\"2\", frame_on=False)\n",
    "\n",
    "    ax.plot(x, epsilons, color=\"C0\")\n",
    "    ax.set_xlabel(\"Num games\", color=\"C0\")\n",
    "    ax.set_ylabel(\"Epsilon\", color=\"C0\")\n",
    "    ax.tick_params(axis='x', colors=\"C0\")\n",
    "    ax.tick_params(axis='y', colors=\"C0\")\n",
    "\n",
    "    N = len(scores)\n",
    "    running_avg = np.empty(N)\n",
    "    for t in range(N):\n",
    "        running_avg[t] = np.mean(scores[max(0, t-20):(t+1)])\n",
    "\n",
    "    ax2.scatter(x, running_avg, color=\"C1\")\n",
    "    ax2.axes.get_xaxis().set_visible(False)\n",
    "    ax2.yaxis.tick_right()\n",
    "    ax2.set_ylabel('Score', color=\"C1\")\n",
    "    ax2.yaxis.set_label_position('right')\n",
    "    ax2.tick_params(axis='y', colors=\"C1\")\n",
    "\n",
    "    if lines is not None:\n",
    "        for line in lines:\n",
    "            plt.axvline(x=line)\n",
    "\n",
    "    plt.savefig(filename)"
   ]
  },
  {
   "cell_type": "code",
   "execution_count": 7,
   "id": "4f9e80ca-2766-4099-bbd5-fa17baf12b14",
   "metadata": {},
   "outputs": [
    {
     "data": {
      "image/png": "[encoded data removed]",
      "text/plain": [
       "<Figure size 640x480 with 2 Axes>"
      ]
     },
     "metadata": {},
     "output_type": "display_data"
    }
   ],
   "source": [
    "x = [i+1 for i in range(len(scores))]\n",
    "plot_learning_curve(x, avg_score_history, eps_history, filename = 'RDQN_v2.png')"
   ]
  },
  {
   "cell_type": "code",
   "execution_count": null,
   "id": "5ce4ceee-97ca-489b-9372-c02119710010",
   "metadata": {},
   "outputs": [],
   "source": []
  },
  {
   "cell_type": "code",
   "execution_count": null,
   "id": "53a446bb-2bcb-49df-9f29-dc72a0f38fd1",
   "metadata": {},
   "outputs": [],
   "source": []
  },
  {
   "cell_type": "code",
   "execution_count": null,
   "id": "693904fd-2b84-4373-b923-9b22a67e1c38",
   "metadata": {},
   "outputs": [],
   "source": []
  },
  {
   "cell_type": "code",
   "execution_count": null,
   "id": "7f2cc54c-c745-4b08-adb8-cbfe8b8518db",
   "metadata": {},
   "outputs": [],
   "source": []
  }
 ],
 "metadata": {
  "kernelspec": {
   "display_name": "Python 3 (ipykernel)",
   "language": "python",
   "name": "python3"
  },
  "language_info": {
   "codemirror_mode": {
    "name": "ipython",
    "version": 3
   },
   "file_extension": ".py",
   "mimetype": "text/x-python",
   "name": "python",
   "nbconvert_exporter": "python",
   "pygments_lexer": "ipython3",
   "version": "3.10.4"
  }
 },
 "nbformat": 4,
 "nbformat_minor": 5
}
